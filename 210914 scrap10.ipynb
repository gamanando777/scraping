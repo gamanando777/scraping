{
 "cells": [
  {
   "cell_type": "markdown",
   "id": "9a84389c",
   "metadata": {},
   "source": [
    "# JSON\n",
    "\n",
    "- \"키-값 쌍\"으로 이루어진 데이터 오브젝트를 전달하기 위해 인간이 읽을 수 있는 텍스트를 사용하는 개방형 표준 포맷이다.\n",
    "- JavaScript Object Notation\n",
    "- https://docs.python.org/ko/3/library/json.html\n"
   ]
  },
  {
   "cell_type": "code",
   "execution_count": 6,
   "id": "18c495f0",
   "metadata": {},
   "outputs": [],
   "source": [
    "import json\n",
    "import pandas as pd\n",
    "import urllib.request\n",
    "import requests"
   ]
  },
  {
   "cell_type": "code",
   "execution_count": 3,
   "id": "45cb01b4",
   "metadata": {},
   "outputs": [
    {
     "data": {
      "text/plain": [
       "['foo', {'bar': ('baz', None, 1.0, 2)}]"
      ]
     },
     "execution_count": 3,
     "metadata": {},
     "output_type": "execute_result"
    }
   ],
   "source": [
    "data = ['foo', {'bar': ('baz', None, 1.0, 2)}]\n",
    "data"
   ]
  },
  {
   "cell_type": "code",
   "execution_count": 4,
   "id": "7abdd674",
   "metadata": {},
   "outputs": [
    {
     "data": {
      "text/plain": [
       "('[\"foo\", {\"bar\": [\"baz\", null, 1.0, 2]}]', str)"
      ]
     },
     "execution_count": 4,
     "metadata": {},
     "output_type": "execute_result"
    }
   ],
   "source": [
    "# list => str\n",
    "result = json.dumps(data)\n",
    "result, type(result)"
   ]
  },
  {
   "cell_type": "code",
   "execution_count": 5,
   "id": "563f2edf",
   "metadata": {},
   "outputs": [
    {
     "data": {
      "text/plain": [
       "(['foo', {'bar': ['baz', None, 1.0, 2]}], list)"
      ]
     },
     "execution_count": 5,
     "metadata": {},
     "output_type": "execute_result"
    }
   ],
   "source": [
    "# str => list\n",
    "result2 = json.loads(result)\n",
    "result2, type(result2)"
   ]
  },
  {
   "cell_type": "markdown",
   "id": "c558cbb3",
   "metadata": {},
   "source": [
    "### JSON 변환\n",
    "\n",
    "- json 샘플 사이트 => 웹페이지 요청 \n",
    " : http://jsonplaceholder.typicode.com\n",
    " \n",
    "- json 텍스트 => 리스트 딕셔너리 구조 \n",
    "- 리스트 딕셔너리 => 데이타프레임\n"
   ]
  },
  {
   "cell_type": "code",
   "execution_count": 24,
   "id": "fdc4f4b1",
   "metadata": {},
   "outputs": [
    {
     "data": {
      "text/plain": [
       "str"
      ]
     },
     "execution_count": 24,
     "metadata": {},
     "output_type": "execute_result"
    }
   ],
   "source": [
    "# 1) json 페이지 => 요청 => text\n",
    "# http://jsonplaceholder.typicode.com/todos\n",
    "\n",
    "url = 'http://jsonplaceholder.typicode.com/todos'\n",
    "response = requests.get(url)\n",
    "text = response.text\n",
    "type(text)\n",
    "#text"
   ]
  },
  {
   "cell_type": "code",
   "execution_count": 25,
   "id": "f3c57d77",
   "metadata": {},
   "outputs": [
    {
     "data": {
      "text/plain": [
       "(list, 200)"
      ]
     },
     "execution_count": 25,
     "metadata": {},
     "output_type": "execute_result"
    }
   ],
   "source": [
    "# 2) 리스트 딕셔너리 구조화\n",
    "todos = json.loads(text)\n",
    "type(todos), len(todos)"
   ]
  },
  {
   "cell_type": "code",
   "execution_count": 26,
   "id": "2e45f96a",
   "metadata": {},
   "outputs": [
    {
     "data": {
      "text/plain": [
       "({'userId': 1, 'id': 1, 'title': 'delectus aut autem', 'completed': False},\n",
       " dict)"
      ]
     },
     "execution_count": 26,
     "metadata": {},
     "output_type": "execute_result"
    }
   ],
   "source": [
    "todos[0],type(todos[0])"
   ]
  },
  {
   "cell_type": "code",
   "execution_count": 27,
   "id": "718ae0f9",
   "metadata": {},
   "outputs": [
    {
     "data": {
      "text/html": [
       "<div>\n",
       "<style scoped>\n",
       "    .dataframe tbody tr th:only-of-type {\n",
       "        vertical-align: middle;\n",
       "    }\n",
       "\n",
       "    .dataframe tbody tr th {\n",
       "        vertical-align: top;\n",
       "    }\n",
       "\n",
       "    .dataframe thead th {\n",
       "        text-align: right;\n",
       "    }\n",
       "</style>\n",
       "<table border=\"1\" class=\"dataframe\">\n",
       "  <thead>\n",
       "    <tr style=\"text-align: right;\">\n",
       "      <th></th>\n",
       "      <th>userId</th>\n",
       "      <th>id</th>\n",
       "      <th>title</th>\n",
       "      <th>completed</th>\n",
       "    </tr>\n",
       "  </thead>\n",
       "  <tbody>\n",
       "  </tbody>\n",
       "</table>\n",
       "</div>"
      ],
      "text/plain": [
       "Empty DataFrame\n",
       "Columns: [userId, id, title, completed]\n",
       "Index: []"
      ]
     },
     "execution_count": 27,
     "metadata": {},
     "output_type": "execute_result"
    }
   ],
   "source": [
    "# 3) 리스트 딕셔너리 => 데이터프레임\n",
    "# 빈 데이터프레임 생성\n",
    "df_todos = pd.DataFrame(columns=['userId', 'id', 'title','completed'])\n",
    "df_todos"
   ]
  },
  {
   "cell_type": "code",
   "execution_count": 28,
   "id": "9edf4008",
   "metadata": {},
   "outputs": [],
   "source": [
    "# 행 인덱스\n",
    "idx = 1\n",
    "for dict in todos:\n",
    "    userId = dict['userId']\n",
    "    id = dict['id']\n",
    "    title = ['title']\n",
    "    completed = dict['completed']\n",
    "    # 데이터프레임에 삽입\n",
    "    df_todos.loc['row'+str(idx)] = [userId, id, title, completed]\n",
    "    #df_todos.loc[idx] = [userId, id, title, completed]\n",
    "    idx += 1\n",
    "    "
   ]
  },
  {
   "cell_type": "code",
   "execution_count": 29,
   "id": "ad92d75b",
   "metadata": {},
   "outputs": [
    {
     "data": {
      "text/html": [
       "<div>\n",
       "<style scoped>\n",
       "    .dataframe tbody tr th:only-of-type {\n",
       "        vertical-align: middle;\n",
       "    }\n",
       "\n",
       "    .dataframe tbody tr th {\n",
       "        vertical-align: top;\n",
       "    }\n",
       "\n",
       "    .dataframe thead th {\n",
       "        text-align: right;\n",
       "    }\n",
       "</style>\n",
       "<table border=\"1\" class=\"dataframe\">\n",
       "  <thead>\n",
       "    <tr style=\"text-align: right;\">\n",
       "      <th></th>\n",
       "      <th>userId</th>\n",
       "      <th>id</th>\n",
       "      <th>title</th>\n",
       "      <th>completed</th>\n",
       "    </tr>\n",
       "  </thead>\n",
       "  <tbody>\n",
       "    <tr>\n",
       "      <th>row1</th>\n",
       "      <td>1</td>\n",
       "      <td>1</td>\n",
       "      <td>[title]</td>\n",
       "      <td>False</td>\n",
       "    </tr>\n",
       "    <tr>\n",
       "      <th>row2</th>\n",
       "      <td>1</td>\n",
       "      <td>2</td>\n",
       "      <td>[title]</td>\n",
       "      <td>False</td>\n",
       "    </tr>\n",
       "    <tr>\n",
       "      <th>row3</th>\n",
       "      <td>1</td>\n",
       "      <td>3</td>\n",
       "      <td>[title]</td>\n",
       "      <td>False</td>\n",
       "    </tr>\n",
       "    <tr>\n",
       "      <th>row4</th>\n",
       "      <td>1</td>\n",
       "      <td>4</td>\n",
       "      <td>[title]</td>\n",
       "      <td>True</td>\n",
       "    </tr>\n",
       "    <tr>\n",
       "      <th>row5</th>\n",
       "      <td>1</td>\n",
       "      <td>5</td>\n",
       "      <td>[title]</td>\n",
       "      <td>False</td>\n",
       "    </tr>\n",
       "  </tbody>\n",
       "</table>\n",
       "</div>"
      ],
      "text/plain": [
       "     userId id    title completed\n",
       "row1      1  1  [title]     False\n",
       "row2      1  2  [title]     False\n",
       "row3      1  3  [title]     False\n",
       "row4      1  4  [title]      True\n",
       "row5      1  5  [title]     False"
      ]
     },
     "execution_count": 29,
     "metadata": {},
     "output_type": "execute_result"
    }
   ],
   "source": [
    "df_todos.head()"
   ]
  },
  {
   "cell_type": "code",
   "execution_count": 30,
   "id": "978ae710",
   "metadata": {},
   "outputs": [
    {
     "data": {
      "text/html": [
       "<div>\n",
       "<style scoped>\n",
       "    .dataframe tbody tr th:only-of-type {\n",
       "        vertical-align: middle;\n",
       "    }\n",
       "\n",
       "    .dataframe tbody tr th {\n",
       "        vertical-align: top;\n",
       "    }\n",
       "\n",
       "    .dataframe thead th {\n",
       "        text-align: right;\n",
       "    }\n",
       "</style>\n",
       "<table border=\"1\" class=\"dataframe\">\n",
       "  <thead>\n",
       "    <tr style=\"text-align: right;\">\n",
       "      <th></th>\n",
       "      <th>userId</th>\n",
       "      <th>id</th>\n",
       "      <th>title</th>\n",
       "      <th>completed</th>\n",
       "    </tr>\n",
       "  </thead>\n",
       "  <tbody>\n",
       "    <tr>\n",
       "      <th>row196</th>\n",
       "      <td>10</td>\n",
       "      <td>196</td>\n",
       "      <td>[title]</td>\n",
       "      <td>True</td>\n",
       "    </tr>\n",
       "    <tr>\n",
       "      <th>row197</th>\n",
       "      <td>10</td>\n",
       "      <td>197</td>\n",
       "      <td>[title]</td>\n",
       "      <td>True</td>\n",
       "    </tr>\n",
       "    <tr>\n",
       "      <th>row198</th>\n",
       "      <td>10</td>\n",
       "      <td>198</td>\n",
       "      <td>[title]</td>\n",
       "      <td>True</td>\n",
       "    </tr>\n",
       "    <tr>\n",
       "      <th>row199</th>\n",
       "      <td>10</td>\n",
       "      <td>199</td>\n",
       "      <td>[title]</td>\n",
       "      <td>True</td>\n",
       "    </tr>\n",
       "    <tr>\n",
       "      <th>row200</th>\n",
       "      <td>10</td>\n",
       "      <td>200</td>\n",
       "      <td>[title]</td>\n",
       "      <td>False</td>\n",
       "    </tr>\n",
       "  </tbody>\n",
       "</table>\n",
       "</div>"
      ],
      "text/plain": [
       "       userId   id    title completed\n",
       "row196     10  196  [title]      True\n",
       "row197     10  197  [title]      True\n",
       "row198     10  198  [title]      True\n",
       "row199     10  199  [title]      True\n",
       "row200     10  200  [title]     False"
      ]
     },
     "execution_count": 30,
     "metadata": {},
     "output_type": "execute_result"
    }
   ],
   "source": [
    "df_todos.tail()"
   ]
  },
  {
   "cell_type": "code",
   "execution_count": 31,
   "id": "77634a83",
   "metadata": {},
   "outputs": [],
   "source": [
    "df_todos.to_csv('output/todos.csv')"
   ]
  },
  {
   "cell_type": "code",
   "execution_count": 32,
   "id": "ab67ab3e",
   "metadata": {},
   "outputs": [
    {
     "name": "stdout",
     "output_type": "stream",
     "text": [
      " C 드라이브의 볼륨에는 이름이 없습니다.\n",
      " 볼륨 일련 번호: 582F-D8CD\n",
      "\n",
      " C:\\workspace\\scrap\\output 디렉터리\n",
      "\n",
      "2021-09-14  오전 11:26    <DIR>          .\n",
      "2021-09-14  오전 11:26    <DIR>          ..\n",
      "2021-09-10  오후 03:26             1,662 book_bestseller.csv\n",
      "2021-09-10  오후 02:28            12,432 color_info.csv\n",
      "2021-09-10  오후 01:57           217,139 colors_names.html\n",
      "2021-09-10  오전 10:47            15,041 google1.html\n",
      "2021-09-10  오전 10:47            15,057 google2.html\n",
      "2021-09-13  오전 11:30            20,280 kid_movie_review.csv\n",
      "2021-09-10  오후 03:37           467,293 naver_webtoon.html\n",
      "2021-09-14  오전 11:26             5,742 todos.csv\n",
      "2021-09-10  오전 11:24            11,936 warandpeace.html\n",
      "2021-09-10  오후 03:00           566,652 yes24_best.html\n",
      "              10개 파일           1,333,234 바이트\n",
      "               2개 디렉터리  377,100,546,048 바이트 남음\n"
     ]
    }
   ],
   "source": [
    "ls output"
   ]
  },
  {
   "cell_type": "code",
   "execution_count": null,
   "id": "ece1053f",
   "metadata": {},
   "outputs": [],
   "source": []
  },
  {
   "cell_type": "code",
   "execution_count": null,
   "id": "86e225b5",
   "metadata": {},
   "outputs": [],
   "source": []
  }
 ],
 "metadata": {
  "kernelspec": {
   "display_name": "Python 3",
   "language": "python",
   "name": "python3"
  },
  "language_info": {
   "codemirror_mode": {
    "name": "ipython",
    "version": 3
   },
   "file_extension": ".py",
   "mimetype": "text/x-python",
   "name": "python",
   "nbconvert_exporter": "python",
   "pygments_lexer": "ipython3",
   "version": "3.8.8"
  }
 },
 "nbformat": 4,
 "nbformat_minor": 5
}
