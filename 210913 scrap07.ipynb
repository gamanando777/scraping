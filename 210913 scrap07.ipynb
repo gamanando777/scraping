{
 "cells": [
  {
   "cell_type": "markdown",
   "id": "ed02778e",
   "metadata": {},
   "source": [
    "# 셀레니움\n",
    "\n",
    "- 원격으로 웹 페이지의 코드를 활용하여 웹페이지를 테스트하기 위한 라이브러리\n",
    "- https://selenium-python.readthedocs.io/\n",
    "\n",
    "### 설치\n",
    "```\n",
    "1) 셀레니움 설치\n",
    "pip install selenium\n",
    "쥬피터노트북에서는 [Home] 클릭 후 [New]-[Terminal] 클릭하고 명령 실행 \n",
    "\n",
    "2) 크롬웹브라우저용 exe 파일 다운로드 \n",
    "- 사용중인 크롬웹브라우저 버전 확인 :\n",
    "  크롬웹브라우저에서 1시방향 옵션 클릭 후 [도움말]-[Chrome 정보] \n",
    "  버전 확인 예)93.0 \n",
    "- https://sites.google.com/a/chromium.org/chromedriver/downloads\n",
    "  크롬웹브라우저에 맞는 다운로드 \n",
    "  윈도우용은 chromedriver_win32.zip \n",
    "- 압축해제는 쥬피터노트북이 있는 같은 폴더에 exe 파일이 있게 설정 \n",
    "```\n"
   ]
  },
  {
   "cell_type": "code",
   "execution_count": 5,
   "id": "a0021953",
   "metadata": {},
   "outputs": [],
   "source": [
    "# pip list"
   ]
  },
  {
   "cell_type": "code",
   "execution_count": 4,
   "id": "bee9e510",
   "metadata": {},
   "outputs": [],
   "source": [
    "# ls"
   ]
  },
  {
   "cell_type": "code",
   "execution_count": 1,
   "id": "94c6fc2b",
   "metadata": {},
   "outputs": [],
   "source": [
    "# 관련 모듈 임포트\n",
    "import pandas as pd\n",
    "import time\n",
    "from selenium import webdriver"
   ]
  },
  {
   "cell_type": "code",
   "execution_count": 2,
   "id": "5f19c2f4",
   "metadata": {},
   "outputs": [],
   "source": [
    "# 2) 셀레니움 웹드라이버 객체 생성\n",
    "# chromedriver.exe 위치 설정\n",
    "driver = webdriver.Chrome('chromedriver.exe')\n",
    "\n",
    "# 3) 웹브라우저 주소로 이동\n",
    "# 지연시간 지정\n",
    "time.sleep(2)\n",
    "\n",
    "url = 'http://www.google.com'\n",
    "driver.get(url)"
   ]
  },
  {
   "cell_type": "code",
   "execution_count": 3,
   "id": "9e502909",
   "metadata": {},
   "outputs": [],
   "source": [
    "# 4) 구글 검색창에 검색어 입력하고 결과 페이지 출력하기\n",
    "# find_element_by_name(name속성값)\n",
    "# send_keys(키워드) => 텍스트필드에 값을 입력하는 이벤트\n",
    "# click() => 요소 클릭 이벤트\n",
    "# submit() => 전송이벤트\n",
    "# q라는 name값을 가지는 요소 찾기 <- 검색창\n",
    "# 키워드를 입력한다.\n",
    "driver.find_element_by_name('q').send_keys('파이썬')\n",
    "driver.find_element_by_name('q').submit()\n",
    "time.sleep(5)\n",
    "\n",
    "# 5) 웹브라우저 닫기\n",
    "#driver.close()"
   ]
  },
  {
   "cell_type": "markdown",
   "id": "ca138793",
   "metadata": {},
   "source": [
    "### 선택자로 찾기\n",
    "\n",
    "- find_elements_by_css_selector(선택자) : 리스트 반환\n",
    "- find_element_by_css_selector(선택자) : 선택자에 해당하는 첫번째만 반환\n",
    "- text ; 텍스트 반환\n",
    "- .get_attribute(속성) : 값"
   ]
  },
  {
   "cell_type": "code",
   "execution_count": 4,
   "id": "39cbe7e2",
   "metadata": {},
   "outputs": [
    {
     "name": "stdout",
     "output_type": "stream",
     "text": [
      "<selenium.webdriver.remote.webelement.WebElement (session=\"2537c9f991f5d69d6d6edca2b6a6c3df\", element=\"f3e66be9-a64a-454c-9c81-9cffd421e8d5\")>\n",
      "파이썬 - 위키백과, 우리 모두의 백과사전\n",
      "<selenium.webdriver.remote.webelement.WebElement (session=\"2537c9f991f5d69d6d6edca2b6a6c3df\", element=\"3c9b8cd0-1ce7-468a-bea1-f224661cef9f\")>\n",
      "https://ko.wikipedia.org/wiki/%ED%8C%8C%EC%9D%B4%EC%8D%AC\n",
      "파이썬(영어: Python)은 1991년 프로그래머인 귀도 반 로섬이 발표한 고급 프로그래밍 언어로, 플랫폼에 독립적이며 인터프리터식, 객체지향적, ...\n"
     ]
    }
   ],
   "source": [
    "# 검색결과의 제목과 url 필터링\n",
    "# #rso > div:nth-child(1) > div > div > div.yuRUbf > a > h3\n",
    "target1 = 'div.yuRUbf > a > h3'\n",
    "print(driver.find_element_by_css_selector(target1))\n",
    "print(driver.find_element_by_css_selector(target1).text) # 제목\n",
    "target2 = 'div.yuRUbf > a'\n",
    "print(driver.find_element_by_css_selector(target2))\n",
    "print(driver.find_element_by_css_selector(target2).get_attribute('href')) # url\n",
    "target3 = '#rso > div:nth-child(1) > div > div > div.IsZvec > div.VwiC3b.MUxGbd.yDYNvb.lyLwlc.lEBKkf'\n",
    "print(driver.find_element_by_css_selector(target3).text) # 내용\n"
   ]
  },
  {
   "cell_type": "code",
   "execution_count": 5,
   "id": "3eab86b3",
   "metadata": {},
   "outputs": [
    {
     "name": "stdout",
     "output_type": "stream",
     "text": [
      "['파이썬 - 위키백과, 우리 모두의 백과사전', 'Welcome to Python.org', '파이썬 자습서 — Python 3.9.7 문서', 'Python - 나무위키:대문', '1 파이썬 시작하기 - 왕초보를 위한 Python - 위키독스', 'Python - 파이썬이란? - 코딩의 시작, TCP School', 'Python - 파이썬 개요 - 코딩의 시작, TCP School', '모두를 위한 프로그래밍 : 파이썬 강좌소개 - edwith']\n",
      "['https://ko.wikipedia.org/wiki/%ED%8C%8C%EC%9D%B4%EC%8D%AC', 'https://www.python.org/', 'https://docs.python.org/ko/3/tutorial/index.html', 'https://namu.wiki/w/Python', 'https://wikidocs.net/43', 'http://tcpschool.com/python/intro', 'http://tcpschool.com/python2018/intro', 'https://www.edwith.org/pythonforeverybody']\n",
      "['파이썬(영어: Python)은 1991년 프로그래머인 귀도 반 로섬이 발표한 고급 프로그래밍 언어로, 플랫폼에 독립적이며 인터프리터식, 객체지향적, ...', 'The official home of the Python Programming Language.', '파이썬 자습서¶. 파이썬은 배우기 쉽고, 강력한 프로그래밍 언어입니다. 효율적인 자료 구조들과 객체 지향 프로그래밍에 대해 간단하고도 효과적인 접근법을 제공 ...', '6일 전 — \"라고 트위터로 쓰자 귀도 반 로섬이 직접 리트윗을 하면서 파이썬이 무엇인지 설명해주고 자기는 아직도 몬티 파이선을 즐겨본다고 한다. 문법이 매우 ...', '그리고, 컴퓨터가 알아듣는 말을 프로그래밍 언어라고 하지요. 우리가 앞으로 배울 파이썬 언어는, 배우기 쉬우면서도 프로그램을 빨리 개발할 수 있고, 기능도 뛰어나 ...', '파이썬(Python) ... 파이썬은 1989년 귀도 반 로썸(Guido van Rossum)에 의해 개발된 고급 프로그래밍 언어로, 2018년 현재 실무와 교육 양쪽 모두에서 엄청난 인기를 끌고 ...', '파이썬(Python)은 네덜란드 출신의 프로그래머인 귀도 반 로섬(Guido van Rossum)이 1989년에 개발한 프로그래밍 언어입니다. 파이썬은 문법이 어렵지 않아서 코드를 ...', \"Charles Severance. Michigan 대학에서 학생들을 지도합니다. Coursera의 인기 강의인 'Python for Everybody'를 통해 전 세계의 학생들을 만나고 있습니다.\"]\n"
     ]
    }
   ],
   "source": [
    "# 리스트로 반환받기\n",
    "# 검색결과의 제목과 url 필터링\n",
    "# #rso > div:nth-child(1) > div > div > div.yuRUbf > a > h3\n",
    "search_list1 = []\n",
    "target1 = 'div.yuRUbf > a > h3'\n",
    "title_list = driver.find_elements_by_css_selector(target1)\n",
    "#print(title_list)\n",
    "\n",
    "for item in title_list:\n",
    "    search_list1.append(item.text)\n",
    "print(search_list1)\n",
    "\n",
    "\n",
    "search_list2 = []\n",
    "target2 = 'div.yuRUbf > a'\n",
    "a_list = driver.find_elements_by_css_selector(target2)\n",
    "for item in a_list:\n",
    "    search_list2.append(item.get_attribute('href'))\n",
    "print(search_list2)\n",
    "\n",
    "\n",
    "\n",
    "search_list3 = []\n",
    "target3 = 'div.VwiC3b.MUxGbd.yDYNvb.lyLwlc.lEBKkf'\n",
    "info_list= driver.find_elements_by_css_selector(target3)\n",
    "#print(title_list)\n",
    "\n",
    "for item in info_list:\n",
    "    search_list3.append(item.text)\n",
    "print(search_list3)\n",
    "\n",
    "# print(driver.find_element_by_css_selector(target))\n",
    "# print(driver.find_element_by_css_selector(target).text)\n",
    "# target2 = 'div.yuRUbf > a'\n",
    "# print(driver.find_element_by_css_selector(target2))\n",
    "# print(driver.find_element_by_css_selector(target2).get_attribute('href'))\n",
    "# target = '#rso > div:nth-child(1) > div > div > div.IsZvec > div.VwiC3b.MUxGbd.yDYNvb.lyLwlc.lEBKkf'\n",
    "# print(driver.find_element_by_css_selector(target).text)\n"
   ]
  },
  {
   "cell_type": "code",
   "execution_count": 6,
   "id": "ef8ceddd",
   "metadata": {},
   "outputs": [
    {
     "data": {
      "text/html": [
       "<div>\n",
       "<style scoped>\n",
       "    .dataframe tbody tr th:only-of-type {\n",
       "        vertical-align: middle;\n",
       "    }\n",
       "\n",
       "    .dataframe tbody tr th {\n",
       "        vertical-align: top;\n",
       "    }\n",
       "\n",
       "    .dataframe thead th {\n",
       "        text-align: right;\n",
       "    }\n",
       "</style>\n",
       "<table border=\"1\" class=\"dataframe\">\n",
       "  <thead>\n",
       "    <tr style=\"text-align: right;\">\n",
       "      <th></th>\n",
       "      <th>title</th>\n",
       "      <th>url</th>\n",
       "      <th>info</th>\n",
       "    </tr>\n",
       "  </thead>\n",
       "  <tbody>\n",
       "    <tr>\n",
       "      <th>0</th>\n",
       "      <td>파이썬 - 위키백과, 우리 모두의 백과사전</td>\n",
       "      <td>https://ko.wikipedia.org/wiki/%ED%8C%8C%EC%9D%...</td>\n",
       "      <td>파이썬(영어: Python)은 1991년 프로그래머인 귀도 반 로섬이 발표한 고급 ...</td>\n",
       "    </tr>\n",
       "    <tr>\n",
       "      <th>1</th>\n",
       "      <td>Welcome to Python.org</td>\n",
       "      <td>https://www.python.org/</td>\n",
       "      <td>The official home of the Python Programming La...</td>\n",
       "    </tr>\n",
       "    <tr>\n",
       "      <th>2</th>\n",
       "      <td>파이썬 자습서 — Python 3.9.7 문서</td>\n",
       "      <td>https://docs.python.org/ko/3/tutorial/index.html</td>\n",
       "      <td>파이썬 자습서¶. 파이썬은 배우기 쉽고, 강력한 프로그래밍 언어입니다. 효율적인 자...</td>\n",
       "    </tr>\n",
       "    <tr>\n",
       "      <th>3</th>\n",
       "      <td>Python - 나무위키:대문</td>\n",
       "      <td>https://namu.wiki/w/Python</td>\n",
       "      <td>6일 전 — \"라고 트위터로 쓰자 귀도 반 로섬이 직접 리트윗을 하면서 파이썬이 무...</td>\n",
       "    </tr>\n",
       "    <tr>\n",
       "      <th>4</th>\n",
       "      <td>1 파이썬 시작하기 - 왕초보를 위한 Python - 위키독스</td>\n",
       "      <td>https://wikidocs.net/43</td>\n",
       "      <td>그리고, 컴퓨터가 알아듣는 말을 프로그래밍 언어라고 하지요. 우리가 앞으로 배울 파...</td>\n",
       "    </tr>\n",
       "  </tbody>\n",
       "</table>\n",
       "</div>"
      ],
      "text/plain": [
       "                                title  \\\n",
       "0             파이썬 - 위키백과, 우리 모두의 백과사전   \n",
       "1               Welcome to Python.org   \n",
       "2           파이썬 자습서 — Python 3.9.7 문서   \n",
       "3                    Python - 나무위키:대문   \n",
       "4  1 파이썬 시작하기 - 왕초보를 위한 Python - 위키독스   \n",
       "\n",
       "                                                 url  \\\n",
       "0  https://ko.wikipedia.org/wiki/%ED%8C%8C%EC%9D%...   \n",
       "1                            https://www.python.org/   \n",
       "2   https://docs.python.org/ko/3/tutorial/index.html   \n",
       "3                         https://namu.wiki/w/Python   \n",
       "4                            https://wikidocs.net/43   \n",
       "\n",
       "                                                info  \n",
       "0  파이썬(영어: Python)은 1991년 프로그래머인 귀도 반 로섬이 발표한 고급 ...  \n",
       "1  The official home of the Python Programming La...  \n",
       "2  파이썬 자습서¶. 파이썬은 배우기 쉽고, 강력한 프로그래밍 언어입니다. 효율적인 자...  \n",
       "3  6일 전 — \"라고 트위터로 쓰자 귀도 반 로섬이 직접 리트윗을 하면서 파이썬이 무...  \n",
       "4  그리고, 컴퓨터가 알아듣는 말을 프로그래밍 언어라고 하지요. 우리가 앞으로 배울 파...  "
      ]
     },
     "execution_count": 6,
     "metadata": {},
     "output_type": "execute_result"
    }
   ],
   "source": [
    "# 2차원으로 저장 후 데이터프레임화\n",
    "search_list4 = []\n",
    "for i in range(len(search_list1)):\n",
    "    search_list4.append([search_list1[i],search_list2[i],search_list3[i]])\n",
    "df4 = pd.DataFrame(search_list4, columns = ['title','url','info'])\n",
    "df4.head()"
   ]
  },
  {
   "cell_type": "markdown",
   "id": "7770f6fa",
   "metadata": {},
   "source": [
    "## 여러 페이지의 검색 정보 저장하기"
   ]
  },
  {
   "cell_type": "code",
   "execution_count": 48,
   "id": "4d9c9beb",
   "metadata": {},
   "outputs": [],
   "source": [
    "# 1) 구글 검색엔진에서 키워드 입력하여 결과 페이지로 이동하기\n",
    "driver = webdriver.Chrome('chromedriver.exe')\n",
    "\n",
    "time.sleep(2)\n",
    "\n",
    "url = 'http://www.google.com'\n",
    "driver.get(url)\n",
    "\n",
    "driver.find_element_by_name('q').send_keys('파이썬')\n",
    "driver.find_element_by_name('q').submit()\n",
    "time.sleep(5)"
   ]
  },
  {
   "cell_type": "code",
   "execution_count": 49,
   "id": "ac9b5993",
   "metadata": {},
   "outputs": [
    {
     "name": "stdout",
     "output_type": "stream",
     "text": [
      "1\n",
      "2\n",
      "3\n",
      "4\n",
      "5\n",
      "47\n"
     ]
    }
   ],
   "source": [
    "search_list = []\n",
    "target = 'div.yuRUbf > a'\n",
    "last_page = 5\n",
    "page = 0\n",
    "\n",
    "while (page < last_page):\n",
    "    print(page+1)\n",
    "    temp = driver.find_elements_by_css_selector(target)\n",
    "    \n",
    "    for item in temp:\n",
    "        search_list.append([item.text.split('\\n')[0], item.get_attribute('href')])\n",
    "        \n",
    "    if page == last_page-1:\n",
    "        break\n",
    "    else:\n",
    "        # #pnnext : 다음 버튼 요소의 셀렉터\n",
    "        driver.find_element_by_css_selector('#pnnext').click()\n",
    "        page += 1\n",
    "\n",
    "print(len(search_list))"
   ]
  },
  {
   "cell_type": "code",
   "execution_count": 50,
   "id": "370fa75c",
   "metadata": {},
   "outputs": [
    {
     "name": "stdout",
     "output_type": "stream",
     "text": [
      "[['파이썬 - 위키백과, 우리 모두의 백과사전', 'https://ko.wikipedia.org/wiki/%ED%8C%8C%EC%9D%B4%EC%8D%AC'], ['Welcome to Python.org', 'https://www.python.org/'], ['파이썬 자습서 — Python 3.9.7 문서', 'https://docs.python.org/ko/3/tutorial/index.html']]\n"
     ]
    }
   ],
   "source": [
    "print(search_list[:3])"
   ]
  },
  {
   "cell_type": "code",
   "execution_count": 51,
   "id": "8623a98e",
   "metadata": {},
   "outputs": [
    {
     "data": {
      "text/plain": [
       "[['파이썬 - 위키백과, 우리 모두의 백과사전',\n",
       "  'https://ko.wikipedia.org/wiki/%ED%8C%8C%EC%9D%B4%EC%8D%AC'],\n",
       " ['Welcome to Python.org', 'https://www.python.org/'],\n",
       " ['파이썬 자습서 — Python 3.9.7 문서',\n",
       "  'https://docs.python.org/ko/3/tutorial/index.html']]"
      ]
     },
     "execution_count": 51,
     "metadata": {},
     "output_type": "execute_result"
    }
   ],
   "source": [
    "search_list[:3]"
   ]
  },
  {
   "cell_type": "code",
   "execution_count": 52,
   "id": "333ccf61",
   "metadata": {},
   "outputs": [
    {
     "data": {
      "text/html": [
       "<div>\n",
       "<style scoped>\n",
       "    .dataframe tbody tr th:only-of-type {\n",
       "        vertical-align: middle;\n",
       "    }\n",
       "\n",
       "    .dataframe tbody tr th {\n",
       "        vertical-align: top;\n",
       "    }\n",
       "\n",
       "    .dataframe thead th {\n",
       "        text-align: right;\n",
       "    }\n",
       "</style>\n",
       "<table border=\"1\" class=\"dataframe\">\n",
       "  <thead>\n",
       "    <tr style=\"text-align: right;\">\n",
       "      <th></th>\n",
       "      <th>title</th>\n",
       "      <th>url</th>\n",
       "    </tr>\n",
       "  </thead>\n",
       "  <tbody>\n",
       "    <tr>\n",
       "      <th>0</th>\n",
       "      <td>파이썬 - 위키백과, 우리 모두의 백과사전</td>\n",
       "      <td>https://ko.wikipedia.org/wiki/%ED%8C%8C%EC%9D%...</td>\n",
       "    </tr>\n",
       "    <tr>\n",
       "      <th>1</th>\n",
       "      <td>Welcome to Python.org</td>\n",
       "      <td>https://www.python.org/</td>\n",
       "    </tr>\n",
       "    <tr>\n",
       "      <th>2</th>\n",
       "      <td>파이썬 자습서 — Python 3.9.7 문서</td>\n",
       "      <td>https://docs.python.org/ko/3/tutorial/index.html</td>\n",
       "    </tr>\n",
       "    <tr>\n",
       "      <th>3</th>\n",
       "      <td>Python - 나무위키:대문</td>\n",
       "      <td>https://namu.wiki/w/Python</td>\n",
       "    </tr>\n",
       "    <tr>\n",
       "      <th>4</th>\n",
       "      <td>1 파이썬 시작하기 - 왕초보를 위한 Python - 위키독스</td>\n",
       "      <td>https://wikidocs.net/43</td>\n",
       "    </tr>\n",
       "  </tbody>\n",
       "</table>\n",
       "</div>"
      ],
      "text/plain": [
       "                                title  \\\n",
       "0             파이썬 - 위키백과, 우리 모두의 백과사전   \n",
       "1               Welcome to Python.org   \n",
       "2           파이썬 자습서 — Python 3.9.7 문서   \n",
       "3                    Python - 나무위키:대문   \n",
       "4  1 파이썬 시작하기 - 왕초보를 위한 Python - 위키독스   \n",
       "\n",
       "                                                 url  \n",
       "0  https://ko.wikipedia.org/wiki/%ED%8C%8C%EC%9D%...  \n",
       "1                            https://www.python.org/  \n",
       "2   https://docs.python.org/ko/3/tutorial/index.html  \n",
       "3                         https://namu.wiki/w/Python  \n",
       "4                            https://wikidocs.net/43  "
      ]
     },
     "execution_count": 52,
     "metadata": {},
     "output_type": "execute_result"
    }
   ],
   "source": [
    "df = pd.DataFrame(search_list, columns=['title','url'])\n",
    "df"
   ]
  },
  {
   "cell_type": "markdown",
   "id": "7532e730",
   "metadata": {},
   "source": [
    "## 검색된 전체 페이지 저장하기"
   ]
  },
  {
   "cell_type": "code",
   "execution_count": 59,
   "id": "5f82ffac",
   "metadata": {},
   "outputs": [
    {
     "name": "stdout",
     "output_type": "stream",
     "text": [
      "1\n",
      "0\n"
     ]
    }
   ],
   "source": [
    "# 1) 구글 검색엔진에서 키워드 입력하여 결과 페이지로 이동하기\n",
    "driver = webdriver.Chrome('chromedriver.exe')\n",
    "\n",
    "time.sleep(2)\n",
    "\n",
    "url = 'http://www.google.com'\n",
    "driver.get(url)\n",
    "\n",
    "driver.find_element_by_name('q').send_keys('파이썬')\n",
    "driver.find_element_by_name('q').submit()\n",
    "time.sleep(5)\n",
    "\n",
    "# 2) 검색 결과 저장\n",
    "search_list = []\n",
    "target = 'div.yuRUbf > a'\n",
    "\n",
    "page = 0\n",
    "\n",
    "while True:\n",
    "    print(page+1)\n",
    "    \n",
    "    temp = driver.find_elements_by_css_selector(target)\n",
    "    \n",
    "    for item in temp:\n",
    "        search_list.append([item.text.split('\\n')[0], item.get_attribute('href')])\n",
    "        \n",
    "    if driver.find_elements_by_css_selector('#pnnext'):\n",
    "        driver.find_element_by_css_selector('#pnnext').click()\n",
    "        page += 1\n",
    "    else:\n",
    "        break\n",
    "\n",
    "print(len(search_list))"
   ]
  },
  {
   "cell_type": "code",
   "execution_count": 56,
   "id": "76295922",
   "metadata": {},
   "outputs": [
    {
     "data": {
      "text/html": [
       "<div>\n",
       "<style scoped>\n",
       "    .dataframe tbody tr th:only-of-type {\n",
       "        vertical-align: middle;\n",
       "    }\n",
       "\n",
       "    .dataframe tbody tr th {\n",
       "        vertical-align: top;\n",
       "    }\n",
       "\n",
       "    .dataframe thead th {\n",
       "        text-align: right;\n",
       "    }\n",
       "</style>\n",
       "<table border=\"1\" class=\"dataframe\">\n",
       "  <thead>\n",
       "    <tr style=\"text-align: right;\">\n",
       "      <th></th>\n",
       "      <th>title</th>\n",
       "      <th>url</th>\n",
       "    </tr>\n",
       "  </thead>\n",
       "  <tbody>\n",
       "  </tbody>\n",
       "</table>\n",
       "</div>"
      ],
      "text/plain": [
       "Empty DataFrame\n",
       "Columns: [title, url]\n",
       "Index: []"
      ]
     },
     "execution_count": 56,
     "metadata": {},
     "output_type": "execute_result"
    }
   ],
   "source": [
    "df = pd.DataFrame(search_list, columns=['title', 'url'])\n",
    "df"
   ]
  },
  {
   "cell_type": "code",
   "execution_count": 57,
   "id": "3ded87e7",
   "metadata": {},
   "outputs": [
    {
     "data": {
      "text/html": [
       "<div>\n",
       "<style scoped>\n",
       "    .dataframe tbody tr th:only-of-type {\n",
       "        vertical-align: middle;\n",
       "    }\n",
       "\n",
       "    .dataframe tbody tr th {\n",
       "        vertical-align: top;\n",
       "    }\n",
       "\n",
       "    .dataframe thead th {\n",
       "        text-align: right;\n",
       "    }\n",
       "</style>\n",
       "<table border=\"1\" class=\"dataframe\">\n",
       "  <thead>\n",
       "    <tr style=\"text-align: right;\">\n",
       "      <th></th>\n",
       "      <th>title</th>\n",
       "      <th>url</th>\n",
       "    </tr>\n",
       "  </thead>\n",
       "  <tbody>\n",
       "  </tbody>\n",
       "</table>\n",
       "</div>"
      ],
      "text/plain": [
       "Empty DataFrame\n",
       "Columns: [title, url]\n",
       "Index: []"
      ]
     },
     "execution_count": 57,
     "metadata": {},
     "output_type": "execute_result"
    }
   ],
   "source": [
    "df.tail(3)"
   ]
  },
  {
   "cell_type": "code",
   "execution_count": null,
   "id": "896a81ea",
   "metadata": {},
   "outputs": [],
   "source": []
  },
  {
   "cell_type": "code",
   "execution_count": null,
   "id": "f4bf007b",
   "metadata": {},
   "outputs": [],
   "source": []
  },
  {
   "cell_type": "code",
   "execution_count": null,
   "id": "dc28e940",
   "metadata": {},
   "outputs": [],
   "source": []
  }
 ],
 "metadata": {
  "kernelspec": {
   "display_name": "Python 3",
   "language": "python",
   "name": "python3"
  },
  "language_info": {
   "codemirror_mode": {
    "name": "ipython",
    "version": 3
   },
   "file_extension": ".py",
   "mimetype": "text/x-python",
   "name": "python",
   "nbconvert_exporter": "python",
   "pygments_lexer": "ipython3",
   "version": "3.8.8"
  }
 },
 "nbformat": 4,
 "nbformat_minor": 5
}
