{
 "cells": [
  {
   "cell_type": "markdown",
   "id": "d6585c8c",
   "metadata": {},
   "source": [
    "# 파싱(Parsing)\n",
    "\n",
    "- 가공되지 않은 데이터(html, xml, json, xhtml...) 에서 원하는 정보를 추출하는 작업\n",
    "- 파이썬 대표적인 파싱 모듈 => BeautifulSoup, Selenium ...\n"
   ]
  },
  {
   "cell_type": "markdown",
   "id": "2a062e38",
   "metadata": {},
   "source": [
    "# BeautifulSoup \n",
    "\n",
    "\n",
    "- html, xml 파싱 기능의 모듈 \n",
    "- pip list 명령으로 beautifulsoup4 설치 확인 \n",
    "- pip install beautifulSoup4\n",
    "- from bs4 import BeautifulSoup 임포트 \n",
    "- https://www.crummy.com/software/BeautifulSoup/bs4/doc/\n"
   ]
  },
  {
   "cell_type": "code",
   "execution_count": 3,
   "id": "21a1bab8",
   "metadata": {},
   "outputs": [],
   "source": [
    "# pip list"
   ]
  },
  {
   "cell_type": "code",
   "execution_count": 2,
   "id": "c8203613",
   "metadata": {},
   "outputs": [],
   "source": [
    "# 임포트\n",
    "import requests\n",
    "from bs4 import BeautifulSoup"
   ]
  },
  {
   "cell_type": "code",
   "execution_count": 6,
   "id": "50ace998",
   "metadata": {},
   "outputs": [],
   "source": [
    "# dir(BeautifulSoup)"
   ]
  },
  {
   "cell_type": "markdown",
   "id": "da56026c",
   "metadata": {},
   "source": [
    "## BeautifulSoup 작업 과정\n",
    "\n",
    "- requests 또는 urllib 이용해서 url => html 화 => 텍스트\n",
    "- 텍스트 => BeautifulSoup 객체화\n",
    "- BeautifulSoup 제공함수를 이용해서 자료 변환 \n",
    "- csv 파일로 저장\n"
   ]
  },
  {
   "cell_type": "code",
   "execution_count": 7,
   "id": "85c80abe",
   "metadata": {},
   "outputs": [],
   "source": [
    "# 샘플 URL\n",
    "url = 'http://pythonscraping.com/pages/warandpeace.html'"
   ]
  },
  {
   "cell_type": "code",
   "execution_count": 10,
   "id": "7d4a8251",
   "metadata": {},
   "outputs": [],
   "source": [
    "# (1) url => request => response => html 텍스트화 \n",
    "response = requests.get(url)\n",
    "response #<Response [200]>\n",
    "html_str = response.text\n",
    "# html_str\n",
    "with open('output/warandpeace.html', 'w') as f:\n",
    "    f.write(html_str)"
   ]
  },
  {
   "cell_type": "code",
   "execution_count": 11,
   "id": "19e5c580",
   "metadata": {},
   "outputs": [
    {
     "name": "stdout",
     "output_type": "stream",
     "text": [
      " C 드라이브의 볼륨에는 이름이 없습니다.\n",
      " 볼륨 일련 번호: 582F-D8CD\n",
      "\n",
      " C:\\workspace\\scrap\\output 디렉터리\n",
      "\n",
      "2021-09-10  오전 11:24    <DIR>          .\n",
      "2021-09-10  오전 11:24    <DIR>          ..\n",
      "2021-09-10  오전 10:47            15,041 google1.html\n",
      "2021-09-10  오전 10:47            15,057 google2.html\n",
      "2021-09-10  오전 11:24            11,936 warandpeace.html\n",
      "               3개 파일              42,034 바이트\n",
      "               2개 디렉터리  378,635,317,248 바이트 남음\n"
     ]
    }
   ],
   "source": [
    "ls output"
   ]
  },
  {
   "cell_type": "code",
   "execution_count": 16,
   "id": "773942e6",
   "metadata": {},
   "outputs": [
    {
     "data": {
      "text/plain": [
       "'<html>\\n<head>\\n<style>\\n.green{\\n\\tcolor:#55ff55;\\n}\\n.red{\\n\\tcolor:#ff5555;\\n}\\n#text{\\n\\twidth:50%;\\n}\\n</style>\\n</head>\\n<body>\\n<h1>War and Peace</h1>\\n<h2>Chapter 1</h2>\\n<div id=\"text\">\\n\"<span class=\"red\">Well, Prince, so Genoa and Lucca are now just family estates of the\\nBuonapartes. But I warn you, if you don\\'t tell me that this means war,\\nif you still try to defend the infamies and horrors perpetrated by\\nthat Antichrist- I really believe he is Antichrist- I will have\\nnothing more to do with you and you are no longer my friend, no longer\\nmy \\'faithful slave,\\' as you call yourself! But how do you do? I see\\nI have frightened you- sit down and tell me all the news.</span>\"\\n<p/>\\nIt was in July, 1805, and the speaker was the well-known <span class=\"green\">Anna\\nPavlovna Scherer</span>, maid of honor and favorite of the <span class=\"green\">Empress Marya\\nFedorovna</span>. With these words she greeted <span class=\"green\">Prince Vasili Kuragin</span>, a man\\nof high rank and importance, who was the first to arrive at her\\nreception. <span class=\"green\">Anna Pavlovna</span> had had a cough for some days. She was, as\\nshe said, suffering from la grippe; grippe being then a new word in\\n<span class=\"green\">St. Petersburg</span>, used only by the elite.\\n<p/>\\nAll her invitations without exception, written in French, and\\ndelivered by a scarlet-liveried footman that morning, ran as follows:\\n<p/>\\n\"<span class=\"red\">If you have nothing better to do, Count [or Prince], and if the\\nprospect of spending an evening with a poor invalid is not too\\nterrible, I shall be very charmed to see you tonight between 7 and 10-\\nAnnette Scherer.</span>\"\\n<p/>\\n\"<span class=\"red\">Heavens! what a virulent attack!</span>\" replied <span class=\"green\">the prince</span>, not in the\\nleast disconcerted by this reception. He had just entered, wearing\\nan embroidered court uniform, knee breeches, and shoes, and had\\nstars on his breast and a serene expression on his flat face. He spoke\\nin that refined French in which our grandfathers not only spoke but\\nthought, and with the gentle, patronizing intonation natural to a\\nman of importance who had grown old in society and at court. He went\\nup to <span class=\"green\">Anna Pavlovna</span>, kissed her hand, presenting to her his bald,\\nscented, and shining head, and complacently seated himself on the\\nsofa.\\n<p/>\\n\"<span class=\"red\">First of all, dear friend, tell me how you are. Set your friend\\'s\\nmind at rest,</span>\" said he without altering his tone, beneath the\\npoliteness and affected sympathy of which indifference and even\\nirony could be discerned.\\n<p/>\\n\"<span class=\"red\">Can one be well while suffering morally? Can one be calm in times\\nlike these if one has any feeling?</span>\" said <span class=\"green\">Anna Pavlovna</span>. \"<span class=\"red\">You are\\nstaying the whole evening, I hope?</span>\"\\n<p/>\\n\"<span class=\"red\">And the fete at the English ambassador\\'s? Today is Wednesday. I\\nmust put in an appearance there,</span>\" said <span class=\"green\">the prince</span>. \"<span class=\"red\">My daughter is\\ncoming for me to take me there.</span>\"\\n<p/>\\n\"<span class=\"red\">I thought today\\'s fete had been canceled. I confess all these\\nfestivities and fireworks are becoming wearisome.</span>\"\\n<p/>\\n\"<span class=\"red\">If they had known that you wished it, the entertainment would\\nhave been put off,</span>\" said <span class=\"green\">the prince</span>, who, like a wound-up clock, by\\nforce of habit said things he did not even wish to be believed.\\n<p/>\\n\"<span class=\"red\">Don\\'t tease! Well, and what has been decided about Novosiltsev\\'s\\ndispatch? You know everything.</span>\"\\n<p/>\\n\"<span class=\"red\">What can one say about it?</span>\" replied <span class=\"green\">the prince</span> in a cold,\\nlistless tone. \"<span class=\"red\">What has been decided? They have decided that\\nBuonaparte has burnt his boats, and I believe that we are ready to\\nburn ours.</span>\"\\n<p/>\\n<span class=\"green\">Prince Vasili</span> always spoke languidly, like an actor repeating a\\nstale part. <span class=\"green\">Anna Pavlovna</span> Scherer on the contrary, despite her forty\\nyears, overflowed with animation and impulsiveness. To be an\\nenthusiast had become her social vocation and, sometimes even when she\\ndid not feel like it, she became enthusiastic in order not to\\ndisappoint the expectations of those who knew her. The subdued smile\\nwhich, though it did not suit her faded features, always played\\nround her lips expressed, as in a spoiled child, a continual\\nconsciousness of her charming defect, which she neither wished, nor\\ncould, nor considered it necessary, to correct.\\n<p/>\\nIn the midst of a conversation on political matters <span class=\"green\">Anna Pavlovna</span>\\nburst out:\\n<p/>\\n\"<span class=\"red\">Oh, don\\'t speak to me of Austria. Perhaps I don\\'t understand\\nthings, but Austria never has wished, and does not wish, for war.\\nShe is betraying us! Russia alone must save Europe. Our gracious\\nsovereign recognizes his high vocation and will be true to it. That is\\nthe one thing I have faith in! Our good and wonderful sovereign has to\\nperform the noblest role on earth, and he is so virtuous and noble\\nthat God will not forsake him. He will fulfill his vocation and\\ncrush the hydra of revolution, which has become more terrible than\\never in the person of this murderer and villain! We alone must\\navenge the blood of the just one.... Whom, I ask you, can we rely\\non?... England with her commercial spirit will not and cannot\\nunderstand the Emperor Alexander\\'s loftiness of soul. She has\\nrefused to evacuate Malta. She wanted to find, and still seeks, some\\nsecret motive in our actions. What answer did Novosiltsev get? None.\\nThe English have not understood and cannot understand the\\nself-abnegation of our Emperor who wants nothing for himself, but only\\ndesires the good of mankind. And what have they promised? Nothing! And\\nwhat little they have promised they will not perform! Prussia has\\nalways declared that Buonaparte is invincible, and that all Europe\\nis powerless before him.... And I don\\'t believe a word that Hardenburg\\nsays, or Haugwitz either. This famous Prussian neutrality is just a\\ntrap. I have faith only in God and the lofty destiny of our adored\\nmonarch. He will save Europe!</span>\"\\n<p/>\\nShe suddenly paused, smiling at her own impetuosity.\\n<p/>\\n\"<span class=\"red\">I think,</span>\" said <span class=\"green\">the prince</span> with a smile, \"<span class=\"red\">that if you had been\\nsent instead of our dear <span class=\"green\">Wintzingerode</span> you would have captured the\\n<span class=\"green\">King of Prussia</span>\\'s consent by assault. You are so eloquent. Will you\\ngive me a cup of tea?</span>\"\\n<p/>\\n\"<span class=\"red\">In a moment. A propos,</span>\" she added, becoming calm again, \"<span class=\"red\">I am\\nexpecting two very interesting men tonight, <span class=\"green\">le Vicomte de Mortemart</span>,\\nwho is connected with the <span class=\"green\">Montmorencys</span> through the <span class=\"green\">Rohans</span>, one of\\nthe best French families. He is one of the genuine emigres, the good\\nones. And also the <span class=\"green\">Abbe Morio</span>. Do you know that profound thinker? He\\nhas been received by <span class=\"green\">the Emperor</span>. Had you heard?</span>\"\\n<p/>\\n\"<span class=\"red\">I shall be delighted to meet them,</span>\" said <span class=\"green\">the prince</span>. \"<span class=\"red\">But tell me,</span>\"\\nhe added with studied carelessness as if it had only just occurred\\nto him, though the question he was about to ask was the chief motive\\nof his visit, \"<span class=\"red\">is it true that the Dowager Empress wants Baron Funke\\nto be appointed first secretary at Vienna? The baron by all accounts\\nis a poor creature.</span>\"\\n<p/>\\n<span class=\"green\">Prince Vasili</span> wished to obtain this post for his son, but others\\nwere trying through the <span class=\"green\">Dowager Empress Marya Fedorovna</span> to secure it\\nfor <span class=\"green\">the baron</span>.\\n<p/>\\n<span class=\"green\">Anna Pavlovna</span> almost closed her eyes to indicate that neither she\\nnor anyone else had a right to criticize what <span class=\"green\">the Empress</span> desired or\\nwas pleased with.\\n<p/>\\n\"<span class=\"red\">Baron Funke has been recommended to the Dowager Empress by her\\nsister,</span>\" was all she said, in a dry and mournful tone.\\n<p/>\\nAs she named <span class=\"green\">the Empress</span>, <span class=\"green\">Anna Pavlovna\\'s</span> face suddenly assumed an\\nexpression of profound and sincere devotion and respect mingled with\\nsadness, and this occurred every time she mentioned her illustrious\\npatroness. She added that <span class=\"green\">Her Majesty</span> had deigned to show <span class=\"green\">Baron\\nFunke</span>, and again her face clouded over with sadness.\\n<p/>\\n<span class=\"green\">The prince</span> was silent and looked indifferent. But, with the\\nwomanly and courtierlike quickness and tact habitual to her, <span class=\"green\">Anna\\nPavlovna</span> wished both to rebuke him (for daring to speak he had done of\\na man recommended to <span class=\"green\">the Empress</span>) and at the same time to console him,\\nso she said:\\n<p/>\\n\"<span class=\"red\">Now about your family. Do you know that since your daughter came\\nout everyone has been enraptured by her? They say she is amazingly\\nbeautiful.</span>\"\\n<p/>\\n<span class=\"green\">The prince</span> bowed to signify his respect and gratitude.\\n<p/>\\n\"<span class=\"red\">I often think,</span>\" she continued after a short pause, drawing nearer\\nto the prince and smiling amiably at him as if to show that\\npolitical and social topics were ended and the time had come for\\nintimate conversation- \"<span class=\"red\">I often think how unfairly sometimes the\\njoys of life are distributed. Why has fate given you two such splendid\\nchildren? I don\\'t speak of <span class=\"green\">Anatole</span>, your youngest. I don\\'t like\\nhim,</span>\" she added in a tone admitting of no rejoinder and raising her\\neyebrows. \"<span class=\"red\">Two such charming children. And really you appreciate\\nthem less than anyone, and so you don\\'t deserve to have them.</span>\"\\n<p/>\\nAnd she smiled her ecstatic smile.\\n<p/>\\n\"<span class=\"red\">I can\\'t help it,</span>\" said <span class=\"green\">the prince</span>. \"<span class=\"red\">Lavater would have said I\\nlack the bump of paternity.</span>\"\\n<p/>\\n\"<span class=\"red\">Don\\'t joke; I mean to have a serious talk with you. Do you know I\\nam dissatisfied with your younger son? Between ourselves</span>\" (and her\\nface assumed its melancholy expression), \"<span class=\"red\">he was mentioned at Her\\nMajesty\\'s and you were pitied....</span>\"\\n<p/>\\n<span class=\"green\">The prince</span> answered nothing, but she looked at him significantly,\\nawaiting a reply. He frowned.\\n<p/>\\n\"<span class=\"red\">What would you have me do?</span>\" he said at last. \"<span class=\"red\">You know I did all\\na father could for their education, and they have both turned out\\nfools. Hippolyte is at least a quiet fool, but Anatole is an active\\none. That is the only difference between them.</span>\" He said this smiling\\nin a way more natural and animated than usual, so that the wrinkles\\nround his mouth very clearly revealed something unexpectedly coarse\\nand unpleasant.\\n<p/>\\n\"<span class=\"red\">And why are children born to such men as you? If you were not a\\nfather there would be nothing I could reproach you with,</span>\" said <span class=\"green\">Anna\\nPavlovna</span>, looking up pensively.\\n<p/>\\n\"<span class=\"red\">I am your faithful slave and to you alone I can confess that my\\nchildren are the bane of my life. It is the cross I have to bear. That\\nis how I explain it to myself. It can\\'t be helped!</span>\"\\n<p/>\\nHe said no more, but expressed his resignation to cruel fate by a\\ngesture. <span class=\"green\">Anna Pavlovna</span> meditated.\\n</div>\\n</body>\\n</html>\\n'"
      ]
     },
     "execution_count": 16,
     "metadata": {},
     "output_type": "execute_result"
    }
   ],
   "source": [
    "html_str"
   ]
  },
  {
   "cell_type": "code",
   "execution_count": 14,
   "id": "464b59b1",
   "metadata": {},
   "outputs": [
    {
     "data": {
      "text/plain": [
       "'\\nBeautifulSoup(html, 해석기)\\n해석기는 html.parser/html5/xml/lxml\\n'"
      ]
     },
     "execution_count": 14,
     "metadata": {},
     "output_type": "execute_result"
    }
   ],
   "source": [
    "# (2) BeautifulSoup 객체화 \n",
    "# BeautifulSoup?\n",
    "# BeautifulSoup(html변수, 해석기)\n",
    "# 해석기는 html.parser/html5/xml/lxml\n"
   ]
  },
  {
   "cell_type": "code",
   "execution_count": 17,
   "id": "4a3c1215",
   "metadata": {},
   "outputs": [
    {
     "data": {
      "text/plain": [
       "bs4.BeautifulSoup"
      ]
     },
     "execution_count": 17,
     "metadata": {},
     "output_type": "execute_result"
    }
   ],
   "source": [
    "soup = BeautifulSoup(html_str,'html.parser')\n",
    "soup\n",
    "type(soup)"
   ]
  },
  {
   "cell_type": "code",
   "execution_count": 19,
   "id": "1b6379fc",
   "metadata": {},
   "outputs": [],
   "source": [
    "# dir(soup)"
   ]
  },
  {
   "cell_type": "code",
   "execution_count": null,
   "id": "ee9ba0d0",
   "metadata": {},
   "outputs": [],
   "source": [
    "# (3-1) BeautifulSoup 이용\n",
    "# 도트(.) 를 이용한 태그탐색\n",
    "# soup.부모요소 아래에 있는 자식요소 탐색\n",
    "# soup.태그1.태그2.태그3...\n",
    "# 텍스트만 출력 : text/string 속성 이용"
   ]
  },
  {
   "cell_type": "code",
   "execution_count": 22,
   "id": "dfaa8a34",
   "metadata": {},
   "outputs": [
    {
     "data": {
      "text/plain": [
       "<style>\n",
       ".green{\n",
       "\tcolor:#55ff55;\n",
       "}\n",
       ".red{\n",
       "\tcolor:#ff5555;\n",
       "}\n",
       "#text{\n",
       "\twidth:50%;\n",
       "}\n",
       "</style>"
      ]
     },
     "execution_count": 22,
     "metadata": {},
     "output_type": "execute_result"
    }
   ],
   "source": [
    "soup.style"
   ]
  },
  {
   "cell_type": "code",
   "execution_count": 28,
   "id": "0e42b181",
   "metadata": {},
   "outputs": [
    {
     "name": "stdout",
     "output_type": "stream",
     "text": [
      "<h1>War and Peace</h1>\n",
      "War and Peace\n",
      "War and Peace\n"
     ]
    }
   ],
   "source": [
    "print(soup.h1)\n",
    "print(soup.h1.text)\n",
    "print(soup.h1.string)"
   ]
  },
  {
   "cell_type": "code",
   "execution_count": 29,
   "id": "0b41aac3",
   "metadata": {},
   "outputs": [
    {
     "name": "stdout",
     "output_type": "stream",
     "text": [
      "Well, Prince, so Genoa and Lucca are now just family estates of the\n",
      "Buonapartes. But I warn you, if you don't tell me that this means war,\n",
      "if you still try to defend the infamies and horrors perpetrated by\n",
      "that Antichrist- I really believe he is Antichrist- I will have\n",
      "nothing more to do with you and you are no longer my friend, no longer\n",
      "my 'faithful slave,' as you call yourself! But how do you do? I see\n",
      "I have frightened you- sit down and tell me all the news.\n"
     ]
    }
   ],
   "source": [
    "print(soup.div.span.string)"
   ]
  },
  {
   "cell_type": "code",
   "execution_count": null,
   "id": "7c93fc1f",
   "metadata": {},
   "outputs": [],
   "source": [
    "# (3-2) BeautifulSoup 이용\n",
    "# 도트(.) 를 이용한 태그탐색\n",
    "# soup.태그명.next_sibling : 다음 형제요소 탐색"
   ]
  },
  {
   "cell_type": "code",
   "execution_count": null,
   "id": "563c0776",
   "metadata": {},
   "outputs": [],
   "source": [
    "# h1 태그의 다음 형제요소 => 개행문자\n",
    "soup.h1.next_sibling"
   ]
  },
  {
   "cell_type": "code",
   "execution_count": 33,
   "id": "bca1dde7",
   "metadata": {},
   "outputs": [
    {
     "name": "stdout",
     "output_type": "stream",
     "text": [
      "<h2>Chapter 1</h2>\n",
      "Chapter 1\n"
     ]
    }
   ],
   "source": [
    "print(soup.h1.next_sibling.next_sibling)\n",
    "print(soup.h1.next_sibling.next_sibling.text)"
   ]
  },
  {
   "cell_type": "code",
   "execution_count": 37,
   "id": "cddb323a",
   "metadata": {},
   "outputs": [
    {
     "name": "stdout",
     "output_type": "stream",
     "text": [
      "<span class=\"green\">Anna\n",
      "Pavlovna Scherer</span>\n"
     ]
    }
   ],
   "source": [
    "target = soup.div.span.next_sibling.next_sibling.next_sibling\n",
    "print(target.next_sibling) # target으로 잡고 또 그 다음거"
   ]
  },
  {
   "cell_type": "code",
   "execution_count": 40,
   "id": "78d00c47",
   "metadata": {},
   "outputs": [
    {
     "name": "stdout",
     "output_type": "stream",
     "text": [
      "<generator object PageElement.next_siblings at 0x0000016F66A42DD0>\n"
     ]
    }
   ],
   "source": [
    "# list(next_siblings) => 리스트로 반환\n",
    "print(target.next_siblings)"
   ]
  },
  {
   "cell_type": "code",
   "execution_count": 41,
   "id": "c9b2ce7f",
   "metadata": {},
   "outputs": [
    {
     "data": {
      "text/plain": [
       "[<span class=\"green\">Anna\n",
       " Pavlovna Scherer</span>,\n",
       " ', maid of honor and favorite of the ',\n",
       " <span class=\"green\">Empress Marya\n",
       " Fedorovna</span>,\n",
       " '. With these words she greeted ',\n",
       " <span class=\"green\">Prince Vasili Kuragin</span>,\n",
       " ', a man\\nof high rank and importance, who was the first to arrive at her\\nreception. ',\n",
       " <span class=\"green\">Anna Pavlovna</span>,\n",
       " ' had had a cough for some days. She was, as\\nshe said, suffering from la grippe; grippe being then a new word in\\n',\n",
       " <span class=\"green\">St. Petersburg</span>,\n",
       " ', used only by the elite.\\n',\n",
       " <p></p>,\n",
       " '\\nAll her invitations without exception, written in French, and\\ndelivered by a scarlet-liveried footman that morning, ran as follows:\\n',\n",
       " <p></p>,\n",
       " '\\n\"',\n",
       " <span class=\"red\">If you have nothing better to do, Count [or Prince], and if the\n",
       " prospect of spending an evening with a poor invalid is not too\n",
       " terrible, I shall be very charmed to see you tonight between 7 and 10-\n",
       " Annette Scherer.</span>,\n",
       " '\"\\n',\n",
       " <p></p>,\n",
       " '\\n\"',\n",
       " <span class=\"red\">Heavens! what a virulent attack!</span>,\n",
       " '\" replied ',\n",
       " <span class=\"green\">the prince</span>,\n",
       " ', not in the\\nleast disconcerted by this reception. He had just entered, wearing\\nan embroidered court uniform, knee breeches, and shoes, and had\\nstars on his breast and a serene expression on his flat face. He spoke\\nin that refined French in which our grandfathers not only spoke but\\nthought, and with the gentle, patronizing intonation natural to a\\nman of importance who had grown old in society and at court. He went\\nup to ',\n",
       " <span class=\"green\">Anna Pavlovna</span>,\n",
       " ', kissed her hand, presenting to her his bald,\\nscented, and shining head, and complacently seated himself on the\\nsofa.\\n',\n",
       " <p></p>,\n",
       " '\\n\"',\n",
       " <span class=\"red\">First of all, dear friend, tell me how you are. Set your friend's\n",
       " mind at rest,</span>,\n",
       " '\" said he without altering his tone, beneath the\\npoliteness and affected sympathy of which indifference and even\\nirony could be discerned.\\n',\n",
       " <p></p>,\n",
       " '\\n\"',\n",
       " <span class=\"red\">Can one be well while suffering morally? Can one be calm in times\n",
       " like these if one has any feeling?</span>,\n",
       " '\" said ',\n",
       " <span class=\"green\">Anna Pavlovna</span>,\n",
       " '. \"',\n",
       " <span class=\"red\">You are\n",
       " staying the whole evening, I hope?</span>,\n",
       " '\"\\n',\n",
       " <p></p>,\n",
       " '\\n\"',\n",
       " <span class=\"red\">And the fete at the English ambassador's? Today is Wednesday. I\n",
       " must put in an appearance there,</span>,\n",
       " '\" said ',\n",
       " <span class=\"green\">the prince</span>,\n",
       " '. \"',\n",
       " <span class=\"red\">My daughter is\n",
       " coming for me to take me there.</span>,\n",
       " '\"\\n',\n",
       " <p></p>,\n",
       " '\\n\"',\n",
       " <span class=\"red\">I thought today's fete had been canceled. I confess all these\n",
       " festivities and fireworks are becoming wearisome.</span>,\n",
       " '\"\\n',\n",
       " <p></p>,\n",
       " '\\n\"',\n",
       " <span class=\"red\">If they had known that you wished it, the entertainment would\n",
       " have been put off,</span>,\n",
       " '\" said ',\n",
       " <span class=\"green\">the prince</span>,\n",
       " ', who, like a wound-up clock, by\\nforce of habit said things he did not even wish to be believed.\\n',\n",
       " <p></p>,\n",
       " '\\n\"',\n",
       " <span class=\"red\">Don't tease! Well, and what has been decided about Novosiltsev's\n",
       " dispatch? You know everything.</span>,\n",
       " '\"\\n',\n",
       " <p></p>,\n",
       " '\\n\"',\n",
       " <span class=\"red\">What can one say about it?</span>,\n",
       " '\" replied ',\n",
       " <span class=\"green\">the prince</span>,\n",
       " ' in a cold,\\nlistless tone. \"',\n",
       " <span class=\"red\">What has been decided? They have decided that\n",
       " Buonaparte has burnt his boats, and I believe that we are ready to\n",
       " burn ours.</span>,\n",
       " '\"\\n',\n",
       " <p></p>,\n",
       " '\\n',\n",
       " <span class=\"green\">Prince Vasili</span>,\n",
       " ' always spoke languidly, like an actor repeating a\\nstale part. ',\n",
       " <span class=\"green\">Anna Pavlovna</span>,\n",
       " ' Scherer on the contrary, despite her forty\\nyears, overflowed with animation and impulsiveness. To be an\\nenthusiast had become her social vocation and, sometimes even when she\\ndid not feel like it, she became enthusiastic in order not to\\ndisappoint the expectations of those who knew her. The subdued smile\\nwhich, though it did not suit her faded features, always played\\nround her lips expressed, as in a spoiled child, a continual\\nconsciousness of her charming defect, which she neither wished, nor\\ncould, nor considered it necessary, to correct.\\n',\n",
       " <p></p>,\n",
       " '\\nIn the midst of a conversation on political matters ',\n",
       " <span class=\"green\">Anna Pavlovna</span>,\n",
       " '\\nburst out:\\n',\n",
       " <p></p>,\n",
       " '\\n\"',\n",
       " <span class=\"red\">Oh, don't speak to me of Austria. Perhaps I don't understand\n",
       " things, but Austria never has wished, and does not wish, for war.\n",
       " She is betraying us! Russia alone must save Europe. Our gracious\n",
       " sovereign recognizes his high vocation and will be true to it. That is\n",
       " the one thing I have faith in! Our good and wonderful sovereign has to\n",
       " perform the noblest role on earth, and he is so virtuous and noble\n",
       " that God will not forsake him. He will fulfill his vocation and\n",
       " crush the hydra of revolution, which has become more terrible than\n",
       " ever in the person of this murderer and villain! We alone must\n",
       " avenge the blood of the just one.... Whom, I ask you, can we rely\n",
       " on?... England with her commercial spirit will not and cannot\n",
       " understand the Emperor Alexander's loftiness of soul. She has\n",
       " refused to evacuate Malta. She wanted to find, and still seeks, some\n",
       " secret motive in our actions. What answer did Novosiltsev get? None.\n",
       " The English have not understood and cannot understand the\n",
       " self-abnegation of our Emperor who wants nothing for himself, but only\n",
       " desires the good of mankind. And what have they promised? Nothing! And\n",
       " what little they have promised they will not perform! Prussia has\n",
       " always declared that Buonaparte is invincible, and that all Europe\n",
       " is powerless before him.... And I don't believe a word that Hardenburg\n",
       " says, or Haugwitz either. This famous Prussian neutrality is just a\n",
       " trap. I have faith only in God and the lofty destiny of our adored\n",
       " monarch. He will save Europe!</span>,\n",
       " '\"\\n',\n",
       " <p></p>,\n",
       " '\\nShe suddenly paused, smiling at her own impetuosity.\\n',\n",
       " <p></p>,\n",
       " '\\n\"',\n",
       " <span class=\"red\">I think,</span>,\n",
       " '\" said ',\n",
       " <span class=\"green\">the prince</span>,\n",
       " ' with a smile, \"',\n",
       " <span class=\"red\">that if you had been\n",
       " sent instead of our dear <span class=\"green\">Wintzingerode</span> you would have captured the\n",
       " <span class=\"green\">King of Prussia</span>'s consent by assault. You are so eloquent. Will you\n",
       " give me a cup of tea?</span>,\n",
       " '\"\\n',\n",
       " <p></p>,\n",
       " '\\n\"',\n",
       " <span class=\"red\">In a moment. A propos,</span>,\n",
       " '\" she added, becoming calm again, \"',\n",
       " <span class=\"red\">I am\n",
       " expecting two very interesting men tonight, <span class=\"green\">le Vicomte de Mortemart</span>,\n",
       " who is connected with the <span class=\"green\">Montmorencys</span> through the <span class=\"green\">Rohans</span>, one of\n",
       " the best French families. He is one of the genuine emigres, the good\n",
       " ones. And also the <span class=\"green\">Abbe Morio</span>. Do you know that profound thinker? He\n",
       " has been received by <span class=\"green\">the Emperor</span>. Had you heard?</span>,\n",
       " '\"\\n',\n",
       " <p></p>,\n",
       " '\\n\"',\n",
       " <span class=\"red\">I shall be delighted to meet them,</span>,\n",
       " '\" said ',\n",
       " <span class=\"green\">the prince</span>,\n",
       " '. \"',\n",
       " <span class=\"red\">But tell me,</span>,\n",
       " '\"\\nhe added with studied carelessness as if it had only just occurred\\nto him, though the question he was about to ask was the chief motive\\nof his visit, \"',\n",
       " <span class=\"red\">is it true that the Dowager Empress wants Baron Funke\n",
       " to be appointed first secretary at Vienna? The baron by all accounts\n",
       " is a poor creature.</span>,\n",
       " '\"\\n',\n",
       " <p></p>,\n",
       " '\\n',\n",
       " <span class=\"green\">Prince Vasili</span>,\n",
       " ' wished to obtain this post for his son, but others\\nwere trying through the ',\n",
       " <span class=\"green\">Dowager Empress Marya Fedorovna</span>,\n",
       " ' to secure it\\nfor ',\n",
       " <span class=\"green\">the baron</span>,\n",
       " '.\\n',\n",
       " <p></p>,\n",
       " '\\n',\n",
       " <span class=\"green\">Anna Pavlovna</span>,\n",
       " ' almost closed her eyes to indicate that neither she\\nnor anyone else had a right to criticize what ',\n",
       " <span class=\"green\">the Empress</span>,\n",
       " ' desired or\\nwas pleased with.\\n',\n",
       " <p></p>,\n",
       " '\\n\"',\n",
       " <span class=\"red\">Baron Funke has been recommended to the Dowager Empress by her\n",
       " sister,</span>,\n",
       " '\" was all she said, in a dry and mournful tone.\\n',\n",
       " <p></p>,\n",
       " '\\nAs she named ',\n",
       " <span class=\"green\">the Empress</span>,\n",
       " ', ',\n",
       " <span class=\"green\">Anna Pavlovna's</span>,\n",
       " ' face suddenly assumed an\\nexpression of profound and sincere devotion and respect mingled with\\nsadness, and this occurred every time she mentioned her illustrious\\npatroness. She added that ',\n",
       " <span class=\"green\">Her Majesty</span>,\n",
       " ' had deigned to show ',\n",
       " <span class=\"green\">Baron\n",
       " Funke</span>,\n",
       " ', and again her face clouded over with sadness.\\n',\n",
       " <p></p>,\n",
       " '\\n',\n",
       " <span class=\"green\">The prince</span>,\n",
       " ' was silent and looked indifferent. But, with the\\nwomanly and courtierlike quickness and tact habitual to her, ',\n",
       " <span class=\"green\">Anna\n",
       " Pavlovna</span>,\n",
       " ' wished both to rebuke him (for daring to speak he had done of\\na man recommended to ',\n",
       " <span class=\"green\">the Empress</span>,\n",
       " ') and at the same time to console him,\\nso she said:\\n',\n",
       " <p></p>,\n",
       " '\\n\"',\n",
       " <span class=\"red\">Now about your family. Do you know that since your daughter came\n",
       " out everyone has been enraptured by her? They say she is amazingly\n",
       " beautiful.</span>,\n",
       " '\"\\n',\n",
       " <p></p>,\n",
       " '\\n',\n",
       " <span class=\"green\">The prince</span>,\n",
       " ' bowed to signify his respect and gratitude.\\n',\n",
       " <p></p>,\n",
       " '\\n\"',\n",
       " <span class=\"red\">I often think,</span>,\n",
       " '\" she continued after a short pause, drawing nearer\\nto the prince and smiling amiably at him as if to show that\\npolitical and social topics were ended and the time had come for\\nintimate conversation- \"',\n",
       " <span class=\"red\">I often think how unfairly sometimes the\n",
       " joys of life are distributed. Why has fate given you two such splendid\n",
       " children? I don't speak of <span class=\"green\">Anatole</span>, your youngest. I don't like\n",
       " him,</span>,\n",
       " '\" she added in a tone admitting of no rejoinder and raising her\\neyebrows. \"',\n",
       " <span class=\"red\">Two such charming children. And really you appreciate\n",
       " them less than anyone, and so you don't deserve to have them.</span>,\n",
       " '\"\\n',\n",
       " <p></p>,\n",
       " '\\nAnd she smiled her ecstatic smile.\\n',\n",
       " <p></p>,\n",
       " '\\n\"',\n",
       " <span class=\"red\">I can't help it,</span>,\n",
       " '\" said ',\n",
       " <span class=\"green\">the prince</span>,\n",
       " '. \"',\n",
       " <span class=\"red\">Lavater would have said I\n",
       " lack the bump of paternity.</span>,\n",
       " '\"\\n',\n",
       " <p></p>,\n",
       " '\\n\"',\n",
       " <span class=\"red\">Don't joke; I mean to have a serious talk with you. Do you know I\n",
       " am dissatisfied with your younger son? Between ourselves</span>,\n",
       " '\" (and her\\nface assumed its melancholy expression), \"',\n",
       " <span class=\"red\">he was mentioned at Her\n",
       " Majesty's and you were pitied....</span>,\n",
       " '\"\\n',\n",
       " <p></p>,\n",
       " '\\n',\n",
       " <span class=\"green\">The prince</span>,\n",
       " ' answered nothing, but she looked at him significantly,\\nawaiting a reply. He frowned.\\n',\n",
       " <p></p>,\n",
       " '\\n\"',\n",
       " <span class=\"red\">What would you have me do?</span>,\n",
       " '\" he said at last. \"',\n",
       " <span class=\"red\">You know I did all\n",
       " a father could for their education, and they have both turned out\n",
       " fools. Hippolyte is at least a quiet fool, but Anatole is an active\n",
       " one. That is the only difference between them.</span>,\n",
       " '\" He said this smiling\\nin a way more natural and animated than usual, so that the wrinkles\\nround his mouth very clearly revealed something unexpectedly coarse\\nand unpleasant.\\n',\n",
       " <p></p>,\n",
       " '\\n\"',\n",
       " <span class=\"red\">And why are children born to such men as you? If you were not a\n",
       " father there would be nothing I could reproach you with,</span>,\n",
       " '\" said ',\n",
       " <span class=\"green\">Anna\n",
       " Pavlovna</span>,\n",
       " ', looking up pensively.\\n',\n",
       " <p></p>,\n",
       " '\\n\"',\n",
       " <span class=\"red\">I am your faithful slave and to you alone I can confess that my\n",
       " children are the bane of my life. It is the cross I have to bear. That\n",
       " is how I explain it to myself. It can't be helped!</span>,\n",
       " '\"\\n',\n",
       " <p></p>,\n",
       " '\\nHe said no more, but expressed his resignation to cruel fate by a\\ngesture. ',\n",
       " <span class=\"green\">Anna Pavlovna</span>,\n",
       " ' meditated.\\n']"
      ]
     },
     "execution_count": 41,
     "metadata": {},
     "output_type": "execute_result"
    }
   ],
   "source": [
    "list(target.next_siblings)"
   ]
  },
  {
   "cell_type": "code",
   "execution_count": null,
   "id": "0c134ed3",
   "metadata": {},
   "outputs": [],
   "source": [
    "# (3-3) BeautifulSoup 이용\n",
    "# - 특정 아이디, 클래스, 특정값을 가지고 있는 태그 탐색\n",
    "# find(id=아이디명) => 태그 1개\n",
    "# find_all(class='클래스명') => 리스트\n",
    "# find_all(attrs={속성값}) => 리스트"
   ]
  },
  {
   "cell_type": "code",
   "execution_count": 44,
   "id": "1a34d692",
   "metadata": {},
   "outputs": [
    {
     "data": {
      "text/plain": [
       "bs4.element.Tag"
      ]
     },
     "execution_count": 44,
     "metadata": {},
     "output_type": "execute_result"
    }
   ],
   "source": [
    "# 아이디로 탐색\n",
    "# soup.find(id='text')\n",
    "# soup.find(id='text').text\n",
    "type(soup.find(id='text'))"
   ]
  },
  {
   "cell_type": "code",
   "execution_count": 45,
   "id": "1a9d5f7d",
   "metadata": {},
   "outputs": [
    {
     "data": {
      "text/plain": [
       "41"
      ]
     },
     "execution_count": 45,
     "metadata": {},
     "output_type": "execute_result"
    }
   ],
   "source": [
    "# 클래스로 탐색\n",
    "green_list = soup.find_all(class_='green')\n",
    "len(green_list)"
   ]
  },
  {
   "cell_type": "code",
   "execution_count": 48,
   "id": "ed2a7e39",
   "metadata": {},
   "outputs": [
    {
     "name": "stdout",
     "output_type": "stream",
     "text": [
      "<span class=\"green\">Anna\n",
      "Pavlovna Scherer</span>\n"
     ]
    },
    {
     "data": {
      "text/plain": [
       "'Anna Pavlovna'"
      ]
     },
     "execution_count": 48,
     "metadata": {},
     "output_type": "execute_result"
    }
   ],
   "source": [
    "print(green_list[0])\n",
    "green_list[-1].text"
   ]
  },
  {
   "cell_type": "code",
   "execution_count": 51,
   "id": "0d93e955",
   "metadata": {},
   "outputs": [
    {
     "data": {
      "text/plain": [
       "41"
      ]
     },
     "execution_count": 51,
     "metadata": {},
     "output_type": "execute_result"
    }
   ],
   "source": [
    "# 속성으로 찾기\n",
    "# find_all(attrs={속성:값}) => 리스트\n",
    "green_list2 = soup.find_all(attrs={'class':'green'})\n",
    "len(green_list2)"
   ]
  },
  {
   "cell_type": "code",
   "execution_count": 52,
   "id": "d391d663",
   "metadata": {},
   "outputs": [
    {
     "data": {
      "text/plain": [
       "34"
      ]
     },
     "execution_count": 52,
     "metadata": {},
     "output_type": "execute_result"
    }
   ],
   "source": [
    "green_list2 = soup.find_all(attrs={'class':'red'})\n",
    "len(green_list2)"
   ]
  },
  {
   "cell_type": "code",
   "execution_count": 53,
   "id": "40359807",
   "metadata": {},
   "outputs": [],
   "source": [
    "# (3-5) BeautifulSoup 이용 \n",
    "# 선택자로 탐색 \n",
    "# soup.select(선택자) => 리스트\n",
    "# soup.select_one(선택자) => 1개"
   ]
  },
  {
   "cell_type": "code",
   "execution_count": 54,
   "id": "8cc7c670",
   "metadata": {},
   "outputs": [
    {
     "data": {
      "text/plain": [
       "75"
      ]
     },
     "execution_count": 54,
     "metadata": {},
     "output_type": "execute_result"
    }
   ],
   "source": [
    "# soup.select('div')\n",
    "# span 태그 전부 \n",
    "span_list = soup.select('span')\n",
    "len(span_list)"
   ]
  },
  {
   "cell_type": "code",
   "execution_count": 55,
   "id": "ffd731fd",
   "metadata": {},
   "outputs": [
    {
     "data": {
      "text/plain": [
       "\"Well, Prince, so Genoa and Lucca are now just family estates of the\\nBuonapartes. But I warn you, if you don't tell me that this means war,\\nif you still try to defend the infamies and horrors perpetrated by\\nthat Antichrist- I really believe he is Antichrist- I will have\\nnothing more to do with you and you are no longer my friend, no longer\\nmy 'faithful slave,' as you call yourself! But how do you do? I see\\nI have frightened you- sit down and tell me all the news.\""
      ]
     },
     "execution_count": 55,
     "metadata": {},
     "output_type": "execute_result"
    }
   ],
   "source": [
    "red_list = soup.select('.red')\n",
    "red_list[0].text"
   ]
  },
  {
   "cell_type": "code",
   "execution_count": 57,
   "id": "849cc825",
   "metadata": {},
   "outputs": [
    {
     "data": {
      "text/plain": [
       "\"Well, Prince, so Genoa and Lucca are now just family estates of the\\nBuonapartes. But I warn you, if you don't tell me that this means war,\\nif you still try to defend the infamies and horrors perpetrated by\\nthat Antichrist- I really believe he is Antichrist- I will have\\nnothing more to do with you and you are no longer my friend, no longer\\nmy 'faithful slave,' as you call yourself! But how do you do? I see\\nI have frightened you- sit down and tell me all the news.\""
      ]
     },
     "execution_count": 57,
     "metadata": {},
     "output_type": "execute_result"
    }
   ],
   "source": [
    "first_span = soup.select_one('.red')\n",
    "first_span.text"
   ]
  },
  {
   "cell_type": "code",
   "execution_count": 59,
   "id": "773ec04d",
   "metadata": {},
   "outputs": [],
   "source": [
    "# 크롬의 개발자 도구에서 지원하는 선택자 복사 기능 \n",
    "# 1) url 페이지에서 개발자 모드로 변경 : F12 / 마우스 우측버튼 [검사]\n",
    "# 2) [Select an element~] 도구 클릭후 찾고하자는 웹페이지 일부분 클릭 \n",
    "# 3) HTML element 창영역에서 11시방향의 옵션버튼 클릭 후 [copy]-[copy selector]\n",
    "# 4) ctrl+v 해서 선택자 확인 \n",
    "# 예)\n",
    "#text > p"
   ]
  },
  {
   "cell_type": "code",
   "execution_count": 65,
   "id": "c592b346",
   "metadata": {},
   "outputs": [
    {
     "data": {
      "text/plain": [
       "[<p></p>,\n",
       " <p></p>,\n",
       " <p></p>,\n",
       " <p></p>,\n",
       " <p></p>,\n",
       " <p></p>,\n",
       " <p></p>,\n",
       " <p></p>,\n",
       " <p></p>,\n",
       " <p></p>,\n",
       " <p></p>,\n",
       " <p></p>,\n",
       " <p></p>,\n",
       " <p></p>,\n",
       " <p></p>,\n",
       " <p></p>,\n",
       " <p></p>,\n",
       " <p></p>,\n",
       " <p></p>,\n",
       " <p></p>,\n",
       " <p></p>,\n",
       " <p></p>,\n",
       " <p></p>,\n",
       " <p></p>,\n",
       " <p></p>,\n",
       " <p></p>,\n",
       " <p></p>,\n",
       " <p></p>,\n",
       " <p></p>,\n",
       " <p></p>,\n",
       " <p></p>,\n",
       " <p></p>,\n",
       " <p></p>,\n",
       " <p></p>]"
      ]
     },
     "execution_count": 65,
     "metadata": {},
     "output_type": "execute_result"
    }
   ],
   "source": [
    "result = soup.select('#text>p')\n",
    "result"
   ]
  },
  {
   "cell_type": "code",
   "execution_count": null,
   "id": "20213be8",
   "metadata": {},
   "outputs": [],
   "source": []
  },
  {
   "cell_type": "code",
   "execution_count": 58,
   "id": "afc3d75a",
   "metadata": {},
   "outputs": [
    {
     "data": {
      "text/plain": [
       "<html>\n",
       "<head>\n",
       "<style>\n",
       ".green{\n",
       "\tcolor:#55ff55;\n",
       "}\n",
       ".red{\n",
       "\tcolor:#ff5555;\n",
       "}\n",
       "#text{\n",
       "\twidth:50%;\n",
       "}\n",
       "</style>\n",
       "</head>\n",
       "<body>\n",
       "<h1>War and Peace</h1>\n",
       "<h2>Chapter 1</h2>\n",
       "<div id=\"text\">\n",
       "\"<span class=\"red\">Well, Prince, so Genoa and Lucca are now just family estates of the\n",
       "Buonapartes. But I warn you, if you don't tell me that this means war,\n",
       "if you still try to defend the infamies and horrors perpetrated by\n",
       "that Antichrist- I really believe he is Antichrist- I will have\n",
       "nothing more to do with you and you are no longer my friend, no longer\n",
       "my 'faithful slave,' as you call yourself! But how do you do? I see\n",
       "I have frightened you- sit down and tell me all the news.</span>\"\n",
       "<p></p>\n",
       "It was in July, 1805, and the speaker was the well-known <span class=\"green\">Anna\n",
       "Pavlovna Scherer</span>, maid of honor and favorite of the <span class=\"green\">Empress Marya\n",
       "Fedorovna</span>. With these words she greeted <span class=\"green\">Prince Vasili Kuragin</span>, a man\n",
       "of high rank and importance, who was the first to arrive at her\n",
       "reception. <span class=\"green\">Anna Pavlovna</span> had had a cough for some days. She was, as\n",
       "she said, suffering from la grippe; grippe being then a new word in\n",
       "<span class=\"green\">St. Petersburg</span>, used only by the elite.\n",
       "<p></p>\n",
       "All her invitations without exception, written in French, and\n",
       "delivered by a scarlet-liveried footman that morning, ran as follows:\n",
       "<p></p>\n",
       "\"<span class=\"red\">If you have nothing better to do, Count [or Prince], and if the\n",
       "prospect of spending an evening with a poor invalid is not too\n",
       "terrible, I shall be very charmed to see you tonight between 7 and 10-\n",
       "Annette Scherer.</span>\"\n",
       "<p></p>\n",
       "\"<span class=\"red\">Heavens! what a virulent attack!</span>\" replied <span class=\"green\">the prince</span>, not in the\n",
       "least disconcerted by this reception. He had just entered, wearing\n",
       "an embroidered court uniform, knee breeches, and shoes, and had\n",
       "stars on his breast and a serene expression on his flat face. He spoke\n",
       "in that refined French in which our grandfathers not only spoke but\n",
       "thought, and with the gentle, patronizing intonation natural to a\n",
       "man of importance who had grown old in society and at court. He went\n",
       "up to <span class=\"green\">Anna Pavlovna</span>, kissed her hand, presenting to her his bald,\n",
       "scented, and shining head, and complacently seated himself on the\n",
       "sofa.\n",
       "<p></p>\n",
       "\"<span class=\"red\">First of all, dear friend, tell me how you are. Set your friend's\n",
       "mind at rest,</span>\" said he without altering his tone, beneath the\n",
       "politeness and affected sympathy of which indifference and even\n",
       "irony could be discerned.\n",
       "<p></p>\n",
       "\"<span class=\"red\">Can one be well while suffering morally? Can one be calm in times\n",
       "like these if one has any feeling?</span>\" said <span class=\"green\">Anna Pavlovna</span>. \"<span class=\"red\">You are\n",
       "staying the whole evening, I hope?</span>\"\n",
       "<p></p>\n",
       "\"<span class=\"red\">And the fete at the English ambassador's? Today is Wednesday. I\n",
       "must put in an appearance there,</span>\" said <span class=\"green\">the prince</span>. \"<span class=\"red\">My daughter is\n",
       "coming for me to take me there.</span>\"\n",
       "<p></p>\n",
       "\"<span class=\"red\">I thought today's fete had been canceled. I confess all these\n",
       "festivities and fireworks are becoming wearisome.</span>\"\n",
       "<p></p>\n",
       "\"<span class=\"red\">If they had known that you wished it, the entertainment would\n",
       "have been put off,</span>\" said <span class=\"green\">the prince</span>, who, like a wound-up clock, by\n",
       "force of habit said things he did not even wish to be believed.\n",
       "<p></p>\n",
       "\"<span class=\"red\">Don't tease! Well, and what has been decided about Novosiltsev's\n",
       "dispatch? You know everything.</span>\"\n",
       "<p></p>\n",
       "\"<span class=\"red\">What can one say about it?</span>\" replied <span class=\"green\">the prince</span> in a cold,\n",
       "listless tone. \"<span class=\"red\">What has been decided? They have decided that\n",
       "Buonaparte has burnt his boats, and I believe that we are ready to\n",
       "burn ours.</span>\"\n",
       "<p></p>\n",
       "<span class=\"green\">Prince Vasili</span> always spoke languidly, like an actor repeating a\n",
       "stale part. <span class=\"green\">Anna Pavlovna</span> Scherer on the contrary, despite her forty\n",
       "years, overflowed with animation and impulsiveness. To be an\n",
       "enthusiast had become her social vocation and, sometimes even when she\n",
       "did not feel like it, she became enthusiastic in order not to\n",
       "disappoint the expectations of those who knew her. The subdued smile\n",
       "which, though it did not suit her faded features, always played\n",
       "round her lips expressed, as in a spoiled child, a continual\n",
       "consciousness of her charming defect, which she neither wished, nor\n",
       "could, nor considered it necessary, to correct.\n",
       "<p></p>\n",
       "In the midst of a conversation on political matters <span class=\"green\">Anna Pavlovna</span>\n",
       "burst out:\n",
       "<p></p>\n",
       "\"<span class=\"red\">Oh, don't speak to me of Austria. Perhaps I don't understand\n",
       "things, but Austria never has wished, and does not wish, for war.\n",
       "She is betraying us! Russia alone must save Europe. Our gracious\n",
       "sovereign recognizes his high vocation and will be true to it. That is\n",
       "the one thing I have faith in! Our good and wonderful sovereign has to\n",
       "perform the noblest role on earth, and he is so virtuous and noble\n",
       "that God will not forsake him. He will fulfill his vocation and\n",
       "crush the hydra of revolution, which has become more terrible than\n",
       "ever in the person of this murderer and villain! We alone must\n",
       "avenge the blood of the just one.... Whom, I ask you, can we rely\n",
       "on?... England with her commercial spirit will not and cannot\n",
       "understand the Emperor Alexander's loftiness of soul. She has\n",
       "refused to evacuate Malta. She wanted to find, and still seeks, some\n",
       "secret motive in our actions. What answer did Novosiltsev get? None.\n",
       "The English have not understood and cannot understand the\n",
       "self-abnegation of our Emperor who wants nothing for himself, but only\n",
       "desires the good of mankind. And what have they promised? Nothing! And\n",
       "what little they have promised they will not perform! Prussia has\n",
       "always declared that Buonaparte is invincible, and that all Europe\n",
       "is powerless before him.... And I don't believe a word that Hardenburg\n",
       "says, or Haugwitz either. This famous Prussian neutrality is just a\n",
       "trap. I have faith only in God and the lofty destiny of our adored\n",
       "monarch. He will save Europe!</span>\"\n",
       "<p></p>\n",
       "She suddenly paused, smiling at her own impetuosity.\n",
       "<p></p>\n",
       "\"<span class=\"red\">I think,</span>\" said <span class=\"green\">the prince</span> with a smile, \"<span class=\"red\">that if you had been\n",
       "sent instead of our dear <span class=\"green\">Wintzingerode</span> you would have captured the\n",
       "<span class=\"green\">King of Prussia</span>'s consent by assault. You are so eloquent. Will you\n",
       "give me a cup of tea?</span>\"\n",
       "<p></p>\n",
       "\"<span class=\"red\">In a moment. A propos,</span>\" she added, becoming calm again, \"<span class=\"red\">I am\n",
       "expecting two very interesting men tonight, <span class=\"green\">le Vicomte de Mortemart</span>,\n",
       "who is connected with the <span class=\"green\">Montmorencys</span> through the <span class=\"green\">Rohans</span>, one of\n",
       "the best French families. He is one of the genuine emigres, the good\n",
       "ones. And also the <span class=\"green\">Abbe Morio</span>. Do you know that profound thinker? He\n",
       "has been received by <span class=\"green\">the Emperor</span>. Had you heard?</span>\"\n",
       "<p></p>\n",
       "\"<span class=\"red\">I shall be delighted to meet them,</span>\" said <span class=\"green\">the prince</span>. \"<span class=\"red\">But tell me,</span>\"\n",
       "he added with studied carelessness as if it had only just occurred\n",
       "to him, though the question he was about to ask was the chief motive\n",
       "of his visit, \"<span class=\"red\">is it true that the Dowager Empress wants Baron Funke\n",
       "to be appointed first secretary at Vienna? The baron by all accounts\n",
       "is a poor creature.</span>\"\n",
       "<p></p>\n",
       "<span class=\"green\">Prince Vasili</span> wished to obtain this post for his son, but others\n",
       "were trying through the <span class=\"green\">Dowager Empress Marya Fedorovna</span> to secure it\n",
       "for <span class=\"green\">the baron</span>.\n",
       "<p></p>\n",
       "<span class=\"green\">Anna Pavlovna</span> almost closed her eyes to indicate that neither she\n",
       "nor anyone else had a right to criticize what <span class=\"green\">the Empress</span> desired or\n",
       "was pleased with.\n",
       "<p></p>\n",
       "\"<span class=\"red\">Baron Funke has been recommended to the Dowager Empress by her\n",
       "sister,</span>\" was all she said, in a dry and mournful tone.\n",
       "<p></p>\n",
       "As she named <span class=\"green\">the Empress</span>, <span class=\"green\">Anna Pavlovna's</span> face suddenly assumed an\n",
       "expression of profound and sincere devotion and respect mingled with\n",
       "sadness, and this occurred every time she mentioned her illustrious\n",
       "patroness. She added that <span class=\"green\">Her Majesty</span> had deigned to show <span class=\"green\">Baron\n",
       "Funke</span>, and again her face clouded over with sadness.\n",
       "<p></p>\n",
       "<span class=\"green\">The prince</span> was silent and looked indifferent. But, with the\n",
       "womanly and courtierlike quickness and tact habitual to her, <span class=\"green\">Anna\n",
       "Pavlovna</span> wished both to rebuke him (for daring to speak he had done of\n",
       "a man recommended to <span class=\"green\">the Empress</span>) and at the same time to console him,\n",
       "so she said:\n",
       "<p></p>\n",
       "\"<span class=\"red\">Now about your family. Do you know that since your daughter came\n",
       "out everyone has been enraptured by her? They say she is amazingly\n",
       "beautiful.</span>\"\n",
       "<p></p>\n",
       "<span class=\"green\">The prince</span> bowed to signify his respect and gratitude.\n",
       "<p></p>\n",
       "\"<span class=\"red\">I often think,</span>\" she continued after a short pause, drawing nearer\n",
       "to the prince and smiling amiably at him as if to show that\n",
       "political and social topics were ended and the time had come for\n",
       "intimate conversation- \"<span class=\"red\">I often think how unfairly sometimes the\n",
       "joys of life are distributed. Why has fate given you two such splendid\n",
       "children? I don't speak of <span class=\"green\">Anatole</span>, your youngest. I don't like\n",
       "him,</span>\" she added in a tone admitting of no rejoinder and raising her\n",
       "eyebrows. \"<span class=\"red\">Two such charming children. And really you appreciate\n",
       "them less than anyone, and so you don't deserve to have them.</span>\"\n",
       "<p></p>\n",
       "And she smiled her ecstatic smile.\n",
       "<p></p>\n",
       "\"<span class=\"red\">I can't help it,</span>\" said <span class=\"green\">the prince</span>. \"<span class=\"red\">Lavater would have said I\n",
       "lack the bump of paternity.</span>\"\n",
       "<p></p>\n",
       "\"<span class=\"red\">Don't joke; I mean to have a serious talk with you. Do you know I\n",
       "am dissatisfied with your younger son? Between ourselves</span>\" (and her\n",
       "face assumed its melancholy expression), \"<span class=\"red\">he was mentioned at Her\n",
       "Majesty's and you were pitied....</span>\"\n",
       "<p></p>\n",
       "<span class=\"green\">The prince</span> answered nothing, but she looked at him significantly,\n",
       "awaiting a reply. He frowned.\n",
       "<p></p>\n",
       "\"<span class=\"red\">What would you have me do?</span>\" he said at last. \"<span class=\"red\">You know I did all\n",
       "a father could for their education, and they have both turned out\n",
       "fools. Hippolyte is at least a quiet fool, but Anatole is an active\n",
       "one. That is the only difference between them.</span>\" He said this smiling\n",
       "in a way more natural and animated than usual, so that the wrinkles\n",
       "round his mouth very clearly revealed something unexpectedly coarse\n",
       "and unpleasant.\n",
       "<p></p>\n",
       "\"<span class=\"red\">And why are children born to such men as you? If you were not a\n",
       "father there would be nothing I could reproach you with,</span>\" said <span class=\"green\">Anna\n",
       "Pavlovna</span>, looking up pensively.\n",
       "<p></p>\n",
       "\"<span class=\"red\">I am your faithful slave and to you alone I can confess that my\n",
       "children are the bane of my life. It is the cross I have to bear. That\n",
       "is how I explain it to myself. It can't be helped!</span>\"\n",
       "<p></p>\n",
       "He said no more, but expressed his resignation to cruel fate by a\n",
       "gesture. <span class=\"green\">Anna Pavlovna</span> meditated.\n",
       "</div>\n",
       "</body>\n",
       "</html>"
      ]
     },
     "execution_count": 58,
     "metadata": {},
     "output_type": "execute_result"
    }
   ],
   "source": [
    "soup"
   ]
  }
 ],
 "metadata": {
  "kernelspec": {
   "display_name": "Python 3",
   "language": "python",
   "name": "python3"
  },
  "language_info": {
   "codemirror_mode": {
    "name": "ipython",
    "version": 3
   },
   "file_extension": ".py",
   "mimetype": "text/x-python",
   "name": "python",
   "nbconvert_exporter": "python",
   "pygments_lexer": "ipython3",
   "version": "3.8.8"
  }
 },
 "nbformat": 4,
 "nbformat_minor": 5
}
