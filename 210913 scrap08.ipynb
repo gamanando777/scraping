{
 "cells": [
  {
   "cell_type": "markdown",
   "id": "da4a849d",
   "metadata": {},
   "source": [
    "# 구글 이미지 저장하기"
   ]
  },
  {
   "cell_type": "code",
   "execution_count": 1,
   "id": "4e8e4bbf",
   "metadata": {},
   "outputs": [],
   "source": [
    "# 관련 모듈 임포트\n",
    "import pandas as pd\n",
    "import time\n",
    "from selenium import webdriver\n",
    "import urllib.request\n",
    "import os"
   ]
  },
  {
   "cell_type": "markdown",
   "id": "7adef6be",
   "metadata": {},
   "source": [
    "### 웹상의 이미지 저장하기\n",
    "\n",
    "- urllib.request.urlretrieve(이미지URL, 저장경로)"
   ]
  },
  {
   "cell_type": "code",
   "execution_count": 4,
   "id": "86f160c8",
   "metadata": {},
   "outputs": [],
   "source": [
    "# os.mkdir('images')"
   ]
  },
  {
   "cell_type": "code",
   "execution_count": 6,
   "id": "91f9dac0",
   "metadata": {},
   "outputs": [],
   "source": [
    "#ls"
   ]
  },
  {
   "cell_type": "code",
   "execution_count": 8,
   "id": "b08fe4d1",
   "metadata": {},
   "outputs": [
    {
     "data": {
      "text/plain": [
       "('images/sample.jpg', <http.client.HTTPMessage at 0x221d18a8040>)"
      ]
     },
     "execution_count": 8,
     "metadata": {},
     "output_type": "execute_result"
    }
   ],
   "source": [
    "url = 'https://t1.daumcdn.net/cfile/tistory/99AA53395D8B18D82C'\n",
    "urllib.request.urlretrieve(url, 'images/sample.jpg')"
   ]
  },
  {
   "cell_type": "markdown",
   "id": "93a0b608",
   "metadata": {},
   "source": [
    "## 구글 이미지 검색 사이트 접속"
   ]
  },
  {
   "cell_type": "code",
   "execution_count": 2,
   "id": "4b96c2cc",
   "metadata": {},
   "outputs": [],
   "source": [
    "# 1) 구글 이미지 검색 엔진에서 키워드 입력하여 결과 페이지로 이동하기 \n",
    "driver = webdriver.Chrome('chromedriver.exe')\n",
    "time.sleep(2)\n",
    "\n",
    "url = 'https://www.google.co.kr/imghp?hl=ko&authuser=0&ogbl'\n",
    "driver.get(url)\n",
    "\n",
    "driver.find_element_by_name('q').send_keys('아네모네')\n",
    "driver.find_element_by_name('q').submit()\n",
    "time.sleep(5)\n"
   ]
  },
  {
   "cell_type": "code",
   "execution_count": null,
   "id": "6b16cb50",
   "metadata": {},
   "outputs": [],
   "source": [
    "# 스크롤링 \n",
    "\n",
    "# 자바스크립트 실행 \n",
    "# driver.execute_script('JS문법')\n",
    "# driver.execute_script('window.alert(\"Hello world\")')\n",
    "\n",
    "# 스크롤링 타임 지정 \n",
    "SCROLL_PAUSE_TIME = 1\n",
    "\n",
    "# 웹브라우저의 현재 전체 스크롤바 높이 반환 \n",
    "last_height = driver.execute_script('return document.body.scrollHeight')\n",
    "print(last_height)\n",
    "\n",
    "while True:\n",
    "    driver.execute_script('window.scrollTo(0, document.body.scrollHeight);')\n",
    "    \n",
    "    time.sleep(SCROLL_PAUSE_TIME)\n",
    "    \n",
    "    new_height = driver.execute_script('return document.body.scrollHeight')\n",
    "    \n",
    "    if new_height == last_height:\n",
    "        try:\n",
    "            # 더보기 버튼의 선택자 반환 \n",
    "            # \n",
    "            driver.find_element_by_css_selector('.mye4qd').click()\n",
    "        except:\n",
    "            break\n",
    "    \n",
    "    last_height = new_height\n",
    "    print(last_height)\n"
   ]
  },
  {
   "cell_type": "code",
   "execution_count": null,
   "id": "c2c4087a",
   "metadata": {},
   "outputs": [],
   "source": [
    "# 이미지를 n장 저장\n",
    "n = 10\n",
    "img_list =  driver.find_elements_by_css_selector('.rg_i')\n",
    "for i in range(n):\n",
    "    img_url = img_list[i].get_attribute('src')\n",
    "    urllib.request.urlretrieve(img_url,'images/flower'+ str(i)+'.jpg')\n",
    "    \n"
   ]
  },
  {
   "cell_type": "code",
   "execution_count": null,
   "id": "9286865c",
   "metadata": {},
   "outputs": [],
   "source": []
  },
  {
   "cell_type": "code",
   "execution_count": null,
   "id": "f0ca6b8b",
   "metadata": {},
   "outputs": [],
   "source": []
  },
  {
   "cell_type": "code",
   "execution_count": null,
   "id": "9d995dda",
   "metadata": {},
   "outputs": [],
   "source": []
  },
  {
   "cell_type": "code",
   "execution_count": null,
   "id": "d72872c6",
   "metadata": {},
   "outputs": [],
   "source": []
  },
  {
   "cell_type": "code",
   "execution_count": null,
   "id": "293271ef",
   "metadata": {},
   "outputs": [],
   "source": []
  },
  {
   "cell_type": "code",
   "execution_count": null,
   "id": "ea96412c",
   "metadata": {},
   "outputs": [],
   "source": []
  },
  {
   "cell_type": "code",
   "execution_count": null,
   "id": "4638967a",
   "metadata": {},
   "outputs": [],
   "source": []
  },
  {
   "cell_type": "code",
   "execution_count": null,
   "id": "1cfa324b",
   "metadata": {},
   "outputs": [],
   "source": []
  },
  {
   "cell_type": "code",
   "execution_count": null,
   "id": "4373315f",
   "metadata": {},
   "outputs": [],
   "source": []
  },
  {
   "cell_type": "code",
   "execution_count": null,
   "id": "5058f50e",
   "metadata": {},
   "outputs": [],
   "source": []
  },
  {
   "cell_type": "code",
   "execution_count": null,
   "id": "ead7809c",
   "metadata": {},
   "outputs": [],
   "source": []
  },
  {
   "cell_type": "code",
   "execution_count": null,
   "id": "3774fd5f",
   "metadata": {},
   "outputs": [],
   "source": []
  },
  {
   "cell_type": "code",
   "execution_count": null,
   "id": "f6cfe96a",
   "metadata": {},
   "outputs": [],
   "source": []
  },
  {
   "cell_type": "code",
   "execution_count": null,
   "id": "6fc211b6",
   "metadata": {},
   "outputs": [],
   "source": []
  },
  {
   "cell_type": "code",
   "execution_count": null,
   "id": "44d4590e",
   "metadata": {},
   "outputs": [],
   "source": []
  },
  {
   "cell_type": "code",
   "execution_count": null,
   "id": "ec4494fc",
   "metadata": {},
   "outputs": [],
   "source": []
  },
  {
   "cell_type": "code",
   "execution_count": null,
   "id": "931e774f",
   "metadata": {},
   "outputs": [],
   "source": []
  },
  {
   "cell_type": "code",
   "execution_count": null,
   "id": "f68c3565",
   "metadata": {},
   "outputs": [],
   "source": []
  },
  {
   "cell_type": "code",
   "execution_count": null,
   "id": "0c8c006a",
   "metadata": {},
   "outputs": [],
   "source": []
  },
  {
   "cell_type": "code",
   "execution_count": null,
   "id": "367149d1",
   "metadata": {},
   "outputs": [],
   "source": []
  },
  {
   "cell_type": "code",
   "execution_count": null,
   "id": "5741c99f",
   "metadata": {},
   "outputs": [],
   "source": []
  },
  {
   "cell_type": "code",
   "execution_count": null,
   "id": "c35ff5e4",
   "metadata": {},
   "outputs": [],
   "source": []
  }
 ],
 "metadata": {
  "kernelspec": {
   "display_name": "Python 3",
   "language": "python",
   "name": "python3"
  },
  "language_info": {
   "codemirror_mode": {
    "name": "ipython",
    "version": 3
   },
   "file_extension": ".py",
   "mimetype": "text/x-python",
   "name": "python",
   "nbconvert_exporter": "python",
   "pygments_lexer": "ipython3",
   "version": "3.8.8"
  }
 },
 "nbformat": 4,
 "nbformat_minor": 5
}
